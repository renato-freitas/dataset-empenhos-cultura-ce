{
 "cells": [
  {
   "cell_type": "markdown",
   "metadata": {},
   "source": [
    "# Trabalho de Análise de Dados\n",
    "\n",
    "# Dataset de Empenhos da Cultura Cearense\n",
    "\n",
    "> - Curso: Mestrado\n",
    "> - Programa: MDCC - UFC\n",
    "> - Disciplina: Introdução à Ciência de Dados\n",
    "> - Professor: José Maria\n",
    "> - Estudante: Renato Freitas"
   ]
  },
  {
   "cell_type": "markdown",
   "metadata": {},
   "source": [
    "## OBJETIVO\n",
    "\n",
    "> Fazer uma análise estatística e exploratórioa dos dados de empenhos da Cultura de todos os municípios cearenses nos últimos quatro anos.\n",
    "\n",
    "> - Medidas de Tendência Central e Medidas de Dispersão\n",
    "> - Tabela de Frequência e Histograma\n",
    "> - Distribuição dos Dados"
   ]
  },
  {
   "cell_type": "code",
   "execution_count": 1,
   "metadata": {},
   "outputs": [],
   "source": [
    "import requests\n",
    "from bs4 import BeautifulSoup\n",
    "import datetime as dt\n",
    "from datetime import timezone\n",
    "import csv\n",
    "import pandas as pd\n",
    "import numpy as np\n",
    "import json\n",
    "import logging\n",
    "import time\n",
    "import math\n",
    "import matplotlib.pyplot as plt"
   ]
  },
  {
   "cell_type": "code",
   "execution_count": 2,
   "metadata": {},
   "outputs": [],
   "source": [
    "%matplotlib inline"
   ]
  },
  {
   "cell_type": "markdown",
   "metadata": {},
   "source": [
    "## Lendo o arquivo"
   ]
  },
  {
   "cell_type": "code",
   "execution_count": 3,
   "metadata": {},
   "outputs": [
    {
     "name": "stderr",
     "output_type": "stream",
     "text": [
      "C:\\Users\\Renato\\anaconda3\\lib\\site-packages\\IPython\\core\\interactiveshell.py:3146: DtypeWarning: Columns (35) have mixed types.Specify dtype option on import or set low_memory=False.\n",
      "  has_raised = await self.run_ast_nodes(code_ast.body, cell_name,\n"
     ]
    }
   ],
   "source": [
    "empenhos = pd.read_csv(\"../ExtracaoDeDados/Empenhos/empenhos_m.csv\", low_memory=False)"
   ]
  },
  {
   "cell_type": "code",
   "execution_count": 4,
   "metadata": {},
   "outputs": [
    {
     "data": {
      "text/html": [
       "<div>\n",
       "<style scoped>\n",
       "    .dataframe tbody tr th:only-of-type {\n",
       "        vertical-align: middle;\n",
       "    }\n",
       "\n",
       "    .dataframe tbody tr th {\n",
       "        vertical-align: top;\n",
       "    }\n",
       "\n",
       "    .dataframe thead th {\n",
       "        text-align: right;\n",
       "    }\n",
       "</style>\n",
       "<table border=\"1\" class=\"dataframe\">\n",
       "  <thead>\n",
       "    <tr style=\"text-align: right;\">\n",
       "      <th></th>\n",
       "      <th>codigo_municipio</th>\n",
       "      <th>exercicio_orcamento</th>\n",
       "      <th>codigo_orgao</th>\n",
       "      <th>codigo_unidade</th>\n",
       "      <th>data_emissao_empenho</th>\n",
       "      <th>numero_empenho</th>\n",
       "      <th>data_referencia_empenho</th>\n",
       "      <th>codigo_funcao</th>\n",
       "      <th>codigo_subfuncao</th>\n",
       "      <th>codigo_programa</th>\n",
       "      <th>...</th>\n",
       "      <th>cep_negociante</th>\n",
       "      <th>nome_municipio_negociante</th>\n",
       "      <th>codigo_uf</th>\n",
       "      <th>tipo_fonte</th>\n",
       "      <th>codigo_fonte</th>\n",
       "      <th>situacao_favorecido</th>\n",
       "      <th>data_situacao</th>\n",
       "      <th>atividade_principal_texto</th>\n",
       "      <th>atividade_principal_codigo</th>\n",
       "      <th>nome_municipio</th>\n",
       "    </tr>\n",
       "  </thead>\n",
       "  <tbody>\n",
       "    <tr>\n",
       "      <th>0</th>\n",
       "      <td>2</td>\n",
       "      <td>201700</td>\n",
       "      <td>6</td>\n",
       "      <td>1</td>\n",
       "      <td>2017-01-02 00:00:00</td>\n",
       "      <td>02010005</td>\n",
       "      <td>201701</td>\n",
       "      <td>13</td>\n",
       "      <td>122</td>\n",
       "      <td>30</td>\n",
       "      <td>...</td>\n",
       "      <td>63240000</td>\n",
       "      <td>Abaiara</td>\n",
       "      <td>CE</td>\n",
       "      <td>1</td>\n",
       "      <td>1</td>\n",
       "      <td>NaN</td>\n",
       "      <td>NaN</td>\n",
       "      <td>NaN</td>\n",
       "      <td>NaN</td>\n",
       "      <td>ABAIARA</td>\n",
       "    </tr>\n",
       "    <tr>\n",
       "      <th>1</th>\n",
       "      <td>2</td>\n",
       "      <td>201800</td>\n",
       "      <td>6</td>\n",
       "      <td>1</td>\n",
       "      <td>2018-01-03 00:00:00</td>\n",
       "      <td>03010004</td>\n",
       "      <td>201801</td>\n",
       "      <td>13</td>\n",
       "      <td>122</td>\n",
       "      <td>30</td>\n",
       "      <td>...</td>\n",
       "      <td>63190000</td>\n",
       "      <td>Santana do Cariri</td>\n",
       "      <td>CE</td>\n",
       "      <td>1</td>\n",
       "      <td>1</td>\n",
       "      <td>NaN</td>\n",
       "      <td>NaN</td>\n",
       "      <td>NaN</td>\n",
       "      <td>NaN</td>\n",
       "      <td>ABAIARA</td>\n",
       "    </tr>\n",
       "    <tr>\n",
       "      <th>2</th>\n",
       "      <td>2</td>\n",
       "      <td>201800</td>\n",
       "      <td>6</td>\n",
       "      <td>1</td>\n",
       "      <td>2018-01-02 00:00:00</td>\n",
       "      <td>02010131</td>\n",
       "      <td>201801</td>\n",
       "      <td>13</td>\n",
       "      <td>122</td>\n",
       "      <td>30</td>\n",
       "      <td>...</td>\n",
       "      <td>63041155</td>\n",
       "      <td>Juazeiro do Norte</td>\n",
       "      <td>CE</td>\n",
       "      <td>1</td>\n",
       "      <td>1</td>\n",
       "      <td>ATIVA</td>\n",
       "      <td>13/11/2006</td>\n",
       "      <td>Serviços de comunicação multimídia - SCM</td>\n",
       "      <td>61.10-8-03</td>\n",
       "      <td>ABAIARA</td>\n",
       "    </tr>\n",
       "    <tr>\n",
       "      <th>3</th>\n",
       "      <td>2</td>\n",
       "      <td>201800</td>\n",
       "      <td>6</td>\n",
       "      <td>1</td>\n",
       "      <td>2018-01-02 00:00:00</td>\n",
       "      <td>02010019</td>\n",
       "      <td>201801</td>\n",
       "      <td>13</td>\n",
       "      <td>122</td>\n",
       "      <td>30</td>\n",
       "      <td>...</td>\n",
       "      <td>63240000</td>\n",
       "      <td>Abaiara</td>\n",
       "      <td>CE</td>\n",
       "      <td>1</td>\n",
       "      <td>1</td>\n",
       "      <td>NaN</td>\n",
       "      <td>NaN</td>\n",
       "      <td>NaN</td>\n",
       "      <td>NaN</td>\n",
       "      <td>ABAIARA</td>\n",
       "    </tr>\n",
       "    <tr>\n",
       "      <th>4</th>\n",
       "      <td>2</td>\n",
       "      <td>201900</td>\n",
       "      <td>6</td>\n",
       "      <td>1</td>\n",
       "      <td>2019-01-02 00:00:00</td>\n",
       "      <td>02010112</td>\n",
       "      <td>201901</td>\n",
       "      <td>13</td>\n",
       "      <td>122</td>\n",
       "      <td>30</td>\n",
       "      <td>...</td>\n",
       "      <td>63240000</td>\n",
       "      <td>ABAIARA</td>\n",
       "      <td>CE</td>\n",
       "      <td>1</td>\n",
       "      <td>1000000</td>\n",
       "      <td>ATIVA</td>\n",
       "      <td>03/11/2005</td>\n",
       "      <td>Administração pública em geral</td>\n",
       "      <td>84.11-6-00</td>\n",
       "      <td>ABAIARA</td>\n",
       "    </tr>\n",
       "  </tbody>\n",
       "</table>\n",
       "<p>5 rows × 45 columns</p>\n",
       "</div>"
      ],
      "text/plain": [
       "   codigo_municipio  exercicio_orcamento  codigo_orgao  codigo_unidade  \\\n",
       "0                 2               201700             6               1   \n",
       "1                 2               201800             6               1   \n",
       "2                 2               201800             6               1   \n",
       "3                 2               201800             6               1   \n",
       "4                 2               201900             6               1   \n",
       "\n",
       "  data_emissao_empenho numero_empenho  data_referencia_empenho  codigo_funcao  \\\n",
       "0  2017-01-02 00:00:00       02010005                   201701             13   \n",
       "1  2018-01-03 00:00:00       03010004                   201801             13   \n",
       "2  2018-01-02 00:00:00       02010131                   201801             13   \n",
       "3  2018-01-02 00:00:00       02010019                   201801             13   \n",
       "4  2019-01-02 00:00:00       02010112                   201901             13   \n",
       "\n",
       "   codigo_subfuncao  codigo_programa  ...  cep_negociante  \\\n",
       "0               122               30  ...        63240000   \n",
       "1               122               30  ...        63190000   \n",
       "2               122               30  ...        63041155   \n",
       "3               122               30  ...        63240000   \n",
       "4               122               30  ...        63240000   \n",
       "\n",
       "   nome_municipio_negociante  codigo_uf  tipo_fonte codigo_fonte  \\\n",
       "0                    Abaiara         CE           1            1   \n",
       "1          Santana do Cariri         CE           1            1   \n",
       "2          Juazeiro do Norte         CE           1            1   \n",
       "3                    Abaiara         CE           1            1   \n",
       "4                    ABAIARA         CE           1      1000000   \n",
       "\n",
       "  situacao_favorecido  data_situacao  \\\n",
       "0                 NaN            NaN   \n",
       "1                 NaN            NaN   \n",
       "2               ATIVA     13/11/2006   \n",
       "3                 NaN            NaN   \n",
       "4               ATIVA     03/11/2005   \n",
       "\n",
       "                  atividade_principal_texto  atividade_principal_codigo  \\\n",
       "0                                       NaN                         NaN   \n",
       "1                                       NaN                         NaN   \n",
       "2  Serviços de comunicação multimídia - SCM                  61.10-8-03   \n",
       "3                                       NaN                         NaN   \n",
       "4            Administração pública em geral                  84.11-6-00   \n",
       "\n",
       "  nome_municipio  \n",
       "0        ABAIARA  \n",
       "1        ABAIARA  \n",
       "2        ABAIARA  \n",
       "3        ABAIARA  \n",
       "4        ABAIARA  \n",
       "\n",
       "[5 rows x 45 columns]"
      ]
     },
     "execution_count": 4,
     "metadata": {},
     "output_type": "execute_result"
    }
   ],
   "source": [
    "empenhos.head()"
   ]
  },
  {
   "cell_type": "code",
   "execution_count": 5,
   "metadata": {},
   "outputs": [
    {
     "name": "stdout",
     "output_type": "stream",
     "text": [
      "<class 'pandas.core.frame.DataFrame'>\n",
      "RangeIndex: 20745 entries, 0 to 20744\n",
      "Data columns (total 45 columns):\n",
      " #   Column                           Non-Null Count  Dtype  \n",
      "---  ------                           --------------  -----  \n",
      " 0   codigo_municipio                 20745 non-null  int64  \n",
      " 1   exercicio_orcamento              20745 non-null  int64  \n",
      " 2   codigo_orgao                     20745 non-null  int64  \n",
      " 3   codigo_unidade                   20745 non-null  int64  \n",
      " 4   data_emissao_empenho             20745 non-null  object \n",
      " 5   numero_empenho                   20745 non-null  object \n",
      " 6   data_referencia_empenho          20745 non-null  int64  \n",
      " 7   codigo_funcao                    20745 non-null  int64  \n",
      " 8   codigo_subfuncao                 20745 non-null  int64  \n",
      " 9   codigo_programa                  20745 non-null  int64  \n",
      " 10  codigo_projeto_atividade         20745 non-null  int64  \n",
      " 11  numero_projeto_atividade         20745 non-null  int64  \n",
      " 12  numero_subprojeto_atividade      20745 non-null  int64  \n",
      " 13  codigo_elemento_despesa          20745 non-null  int64  \n",
      " 14  modalidade_empenho               20745 non-null  object \n",
      " 15  descricao_empenho                20745 non-null  object \n",
      " 16  valor_anterior_saldo_dotacao     20745 non-null  float64\n",
      " 17  valor_empenhado                  20745 non-null  float64\n",
      " 18  valor_atual_saldo_dotacao        20745 non-null  float64\n",
      " 19  tipo_processo_licitatorio        20745 non-null  object \n",
      " 20  numero_documento_negociante      20745 non-null  int64  \n",
      " 21  estado_empenho                   20745 non-null  object \n",
      " 22  numero_nota_anulacao             20745 non-null  object \n",
      " 23  data_emissao_empenho_substituto  0 non-null      float64\n",
      " 24  numero_empenho_substituto        20745 non-null  object \n",
      " 25  cd_cpf_gestor                    20745 non-null  int64  \n",
      " 26  cpf_gestor_contrato              6045 non-null   object \n",
      " 27  data_contrato                    5594 non-null   object \n",
      " 28  numero_contrato                  6045 non-null   object \n",
      " 29  data_realizacao_licitacao        5472 non-null   object \n",
      " 30  numero_licitacao                 6045 non-null   object \n",
      " 31  codigo_tipo_negociante           20745 non-null  int64  \n",
      " 32  nome_negociante                  20745 non-null  object \n",
      " 33  endereco_negociante              20745 non-null  object \n",
      " 34  fone_negociante                  20745 non-null  object \n",
      " 35  cep_negociante                   20745 non-null  object \n",
      " 36  nome_municipio_negociante        20745 non-null  object \n",
      " 37  codigo_uf                        20745 non-null  object \n",
      " 38  tipo_fonte                       20745 non-null  int64  \n",
      " 39  codigo_fonte                     20745 non-null  int64  \n",
      " 40  situacao_favorecido              12715 non-null  object \n",
      " 41  data_situacao                    12715 non-null  object \n",
      " 42  atividade_principal_texto        12698 non-null  object \n",
      " 43  atividade_principal_codigo       12698 non-null  object \n",
      " 44  nome_municipio                   20745 non-null  object \n",
      "dtypes: float64(4), int64(17), object(24)\n",
      "memory usage: 7.1+ MB\n"
     ]
    }
   ],
   "source": [
    "empenhos.info()"
   ]
  },
  {
   "cell_type": "markdown",
   "metadata": {},
   "source": [
    "## Selecionando as features"
   ]
  },
  {
   "cell_type": "markdown",
   "metadata": {},
   "source": [
    "> Retirar dados sensíveis do negociante ou favorecido\n",
    ">\n",
    "> - endereco_negociante\n",
    "> - fone_negociante\n",
    "> - cep_negociante\n",
    "> - nome_municipio_negociante "
   ]
  },
  {
   "cell_type": "code",
   "execution_count": 6,
   "metadata": {},
   "outputs": [],
   "source": [
    "features = ['codigo_municipio','nome_municipio','codigo_orgao', 'codigo_unidade', \n",
    "            'data_emissao_empenho', 'numero_empenho', 'codigo_funcao', 'codigo_subfuncao', 'codigo_programa',\n",
    "         'codigo_elemento_despesa', 'modalidade_empenho', 'descricao_empenho', \n",
    "         'valor_anterior_saldo_dotacao', 'valor_empenhado', 'tipo_processo_licitatorio', \n",
    "         'numero_documento_negociante', 'estado_empenho','codigo_tipo_negociante', \n",
    "         'nome_negociante', 'situacao_favorecido', 'data_situacao', 'atividade_principal_texto',\n",
    "         'atividade_principal_codigo']"
   ]
  },
  {
   "cell_type": "code",
   "execution_count": 7,
   "metadata": {},
   "outputs": [
    {
     "data": {
      "text/plain": [
       "(20745, 23)"
      ]
     },
     "execution_count": 7,
     "metadata": {},
     "output_type": "execute_result"
    }
   ],
   "source": [
    "df = empenhos.loc[:, features]\n",
    "df.shape"
   ]
  },
  {
   "cell_type": "code",
   "execution_count": 8,
   "metadata": {},
   "outputs": [
    {
     "name": "stdout",
     "output_type": "stream",
     "text": [
      "<class 'pandas.core.frame.DataFrame'>\n",
      "RangeIndex: 20745 entries, 0 to 20744\n",
      "Data columns (total 23 columns):\n",
      " #   Column                        Non-Null Count  Dtype  \n",
      "---  ------                        --------------  -----  \n",
      " 0   codigo_municipio              20745 non-null  int64  \n",
      " 1   nome_municipio                20745 non-null  object \n",
      " 2   codigo_orgao                  20745 non-null  int64  \n",
      " 3   codigo_unidade                20745 non-null  int64  \n",
      " 4   data_emissao_empenho          20745 non-null  object \n",
      " 5   numero_empenho                20745 non-null  object \n",
      " 6   codigo_funcao                 20745 non-null  int64  \n",
      " 7   codigo_subfuncao              20745 non-null  int64  \n",
      " 8   codigo_programa               20745 non-null  int64  \n",
      " 9   codigo_elemento_despesa       20745 non-null  int64  \n",
      " 10  modalidade_empenho            20745 non-null  object \n",
      " 11  descricao_empenho             20745 non-null  object \n",
      " 12  valor_anterior_saldo_dotacao  20745 non-null  float64\n",
      " 13  valor_empenhado               20745 non-null  float64\n",
      " 14  tipo_processo_licitatorio     20745 non-null  object \n",
      " 15  numero_documento_negociante   20745 non-null  int64  \n",
      " 16  estado_empenho                20745 non-null  object \n",
      " 17  codigo_tipo_negociante        20745 non-null  int64  \n",
      " 18  nome_negociante               20745 non-null  object \n",
      " 19  situacao_favorecido           12715 non-null  object \n",
      " 20  data_situacao                 12715 non-null  object \n",
      " 21  atividade_principal_texto     12698 non-null  object \n",
      " 22  atividade_principal_codigo    12698 non-null  object \n",
      "dtypes: float64(2), int64(9), object(12)\n",
      "memory usage: 3.6+ MB\n"
     ]
    }
   ],
   "source": [
    "df.info()"
   ]
  },
  {
   "cell_type": "markdown",
   "metadata": {},
   "source": [
    "## Cópia de segurança"
   ]
  },
  {
   "cell_type": "code",
   "execution_count": 9,
   "metadata": {},
   "outputs": [],
   "source": [
    "dataset = df.copy()"
   ]
  },
  {
   "cell_type": "markdown",
   "metadata": {},
   "source": [
    "## Limpar os dados ou Pré-processamento dos dados\n",
    "- Tratar valores incosistentes\n",
    "- Tratar valores faltantes\n",
    "- Escalonamento de atributos\n",
    "- Transformação de variáveis categóricas"
   ]
  },
  {
   "cell_type": "markdown",
   "metadata": {},
   "source": [
    "### Dados do tipo int64 que são categóricos\n",
    "- codigo_orgao\n",
    "- codigo_unidade\n",
    "- codigo_funcao                   \n",
    "- codigo_subfuncao              \n",
    "- codigo_programa    \n",
    "- codigo_elemento_despesa\n",
    "- numero_documento_negociante \n",
    "- cd_cpf_gestor\n",
    "- codigo_tipo_negociante"
   ]
  },
  {
   "cell_type": "markdown",
   "metadata": {},
   "source": [
    "### Dados do tipo object que são categóricos\n",
    "- numero_empenho\n",
    "- modalidade_empenho ['E','O','G']\n",
    "- tipo_processo_licitatorio ['F', 'N']     \n",
    "- estado_empenho ['AP','OR']"
   ]
  },
  {
   "cell_type": "markdown",
   "metadata": {},
   "source": [
    "## Verificar dados faltantes"
   ]
  },
  {
   "cell_type": "code",
   "execution_count": 6,
   "metadata": {},
   "outputs": [
    {
     "ename": "NameError",
     "evalue": "name 'dataset' is not defined",
     "output_type": "error",
     "traceback": [
      "\u001b[1;31m---------------------------------------------------------------------------\u001b[0m",
      "\u001b[1;31mNameError\u001b[0m                                 Traceback (most recent call last)",
      "\u001b[1;32m<ipython-input-6-0eb19dd5d3fd>\u001b[0m in \u001b[0;36m<module>\u001b[1;34m\u001b[0m\n\u001b[1;32m----> 1\u001b[1;33m \u001b[0mdataset\u001b[0m\u001b[1;33m.\u001b[0m\u001b[0misnull\u001b[0m\u001b[1;33m(\u001b[0m\u001b[1;33m)\u001b[0m\u001b[1;33m.\u001b[0m\u001b[0msum\u001b[0m\u001b[1;33m(\u001b[0m\u001b[1;33m)\u001b[0m\u001b[1;33m\u001b[0m\u001b[1;33m\u001b[0m\u001b[0m\n\u001b[0m",
      "\u001b[1;31mNameError\u001b[0m: name 'dataset' is not defined"
     ]
    }
   ],
   "source": [
    "dataset.isnull().sum()"
   ]
  },
  {
   "cell_type": "markdown",
   "metadata": {},
   "source": [
    "- ### Dados faltantes em 'data_situacao'"
   ]
  },
  {
   "cell_type": "code",
   "execution_count": 11,
   "metadata": {},
   "outputs": [],
   "source": [
    "dataset.loc[dataset['data_situacao'].notna() == True, 'data_situacao'] = pd.to_datetime(dataset['data_situacao'], utc=True)"
   ]
  },
  {
   "cell_type": "code",
   "execution_count": 12,
   "metadata": {},
   "outputs": [],
   "source": [
    "dataset['data_situacao'] = pd.to_datetime(dataset['data_situacao'])\n",
    "dataset['data_situacao'] = dataset['data_situacao'].astype('datetime64[ns]')"
   ]
  },
  {
   "cell_type": "code",
   "execution_count": 13,
   "metadata": {},
   "outputs": [
    {
     "data": {
      "text/plain": [
       "0              NaT\n",
       "1              NaT\n",
       "2       2006-11-13\n",
       "3              NaT\n",
       "4       2005-03-11\n",
       "           ...    \n",
       "20740   2005-03-11\n",
       "20741   2005-03-11\n",
       "20742   2007-07-12\n",
       "20743   2014-11-11\n",
       "20744   2017-05-05\n",
       "Name: data_situacao, Length: 20745, dtype: datetime64[ns]"
      ]
     },
     "execution_count": 13,
     "metadata": {},
     "output_type": "execute_result"
    }
   ],
   "source": [
    "assert dataset['data_situacao'].dtype == 'datetime64[ns]'\n",
    "dataset['data_situacao']"
   ]
  },
  {
   "cell_type": "markdown",
   "metadata": {},
   "source": [
    "## Tratando das datas: transformando string em datetime"
   ]
  },
  {
   "cell_type": "code",
   "execution_count": 14,
   "metadata": {},
   "outputs": [],
   "source": [
    "dataset['data_emissao_empenho'] = pd.to_datetime(dataset['data_emissao_empenho'])"
   ]
  },
  {
   "cell_type": "code",
   "execution_count": 15,
   "metadata": {},
   "outputs": [
    {
     "data": {
      "text/plain": [
       "0       2017-01-02\n",
       "1       2018-01-03\n",
       "2       2018-01-02\n",
       "3       2018-01-02\n",
       "4       2019-01-02\n",
       "           ...    \n",
       "20740   2020-01-02\n",
       "20741   2020-01-06\n",
       "20742   2020-01-13\n",
       "20743   2020-01-13\n",
       "20744   2020-01-20\n",
       "Name: data_emissao_empenho, Length: 20745, dtype: datetime64[ns]"
      ]
     },
     "execution_count": 15,
     "metadata": {},
     "output_type": "execute_result"
    }
   ],
   "source": [
    "assert dataset['data_emissao_empenho'].dtype == 'datetime64[ns]'\n",
    "dataset['data_emissao_empenho']"
   ]
  },
  {
   "cell_type": "markdown",
   "metadata": {},
   "source": [
    "### Tratando siglas: transformando string em tipo CATEGORY do pandas/python"
   ]
  },
  {
   "cell_type": "code",
   "execution_count": 16,
   "metadata": {},
   "outputs": [],
   "source": [
    "# def convertePalavraEmNumero(dados, feature):\n",
    "#     '''Recebe um dataset, uma coluna a ser convertida\n",
    "#     e transforma cada distinta palavra encontrada na coluna\n",
    "#     em um inteiro em sequência iniciando em 1'''\n",
    "#     conjunto = dados[feature].unique()\n",
    "#     dic = {}\n",
    "#     for index, valor in enumerate(conjunto):\n",
    "#         dados.loc[dados[feature] == valor, feature] = index + 1"
   ]
  },
  {
   "cell_type": "code",
   "execution_count": 17,
   "metadata": {},
   "outputs": [],
   "source": [
    "# convertePalavraEmNumero(dataset, 'modalidade_empenho')\n",
    "# convertePalavraEmNumero(dataset, 'tipo_processo_licitatorio')\n",
    "# convertePalavraEmNumero(dataset, 'estado_empenho')"
   ]
  },
  {
   "cell_type": "code",
   "execution_count": 18,
   "metadata": {},
   "outputs": [
    {
     "data": {
      "text/html": [
       "<div>\n",
       "<style scoped>\n",
       "    .dataframe tbody tr th:only-of-type {\n",
       "        vertical-align: middle;\n",
       "    }\n",
       "\n",
       "    .dataframe tbody tr th {\n",
       "        vertical-align: top;\n",
       "    }\n",
       "\n",
       "    .dataframe thead th {\n",
       "        text-align: right;\n",
       "    }\n",
       "</style>\n",
       "<table border=\"1\" class=\"dataframe\">\n",
       "  <thead>\n",
       "    <tr style=\"text-align: right;\">\n",
       "      <th></th>\n",
       "      <th>tipo_processo_licitatorio</th>\n",
       "      <th>modalidade_empenho</th>\n",
       "      <th>estado_empenho</th>\n",
       "    </tr>\n",
       "  </thead>\n",
       "  <tbody>\n",
       "    <tr>\n",
       "      <th>0</th>\n",
       "      <td>F</td>\n",
       "      <td>E</td>\n",
       "      <td>AP</td>\n",
       "    </tr>\n",
       "    <tr>\n",
       "      <th>1</th>\n",
       "      <td>F</td>\n",
       "      <td>O</td>\n",
       "      <td>OR</td>\n",
       "    </tr>\n",
       "    <tr>\n",
       "      <th>2</th>\n",
       "      <td>N</td>\n",
       "      <td>G</td>\n",
       "      <td>OR</td>\n",
       "    </tr>\n",
       "    <tr>\n",
       "      <th>3</th>\n",
       "      <td>F</td>\n",
       "      <td>E</td>\n",
       "      <td>AP</td>\n",
       "    </tr>\n",
       "    <tr>\n",
       "      <th>4</th>\n",
       "      <td>F</td>\n",
       "      <td>E</td>\n",
       "      <td>OR</td>\n",
       "    </tr>\n",
       "    <tr>\n",
       "      <th>...</th>\n",
       "      <td>...</td>\n",
       "      <td>...</td>\n",
       "      <td>...</td>\n",
       "    </tr>\n",
       "    <tr>\n",
       "      <th>20740</th>\n",
       "      <td>F</td>\n",
       "      <td>E</td>\n",
       "      <td>AT</td>\n",
       "    </tr>\n",
       "    <tr>\n",
       "      <th>20741</th>\n",
       "      <td>F</td>\n",
       "      <td>O</td>\n",
       "      <td>OR</td>\n",
       "    </tr>\n",
       "    <tr>\n",
       "      <th>20742</th>\n",
       "      <td>R</td>\n",
       "      <td>G</td>\n",
       "      <td>AP</td>\n",
       "    </tr>\n",
       "    <tr>\n",
       "      <th>20743</th>\n",
       "      <td>R</td>\n",
       "      <td>G</td>\n",
       "      <td>AP</td>\n",
       "    </tr>\n",
       "    <tr>\n",
       "      <th>20744</th>\n",
       "      <td>R</td>\n",
       "      <td>G</td>\n",
       "      <td>AP</td>\n",
       "    </tr>\n",
       "  </tbody>\n",
       "</table>\n",
       "<p>20745 rows × 3 columns</p>\n",
       "</div>"
      ],
      "text/plain": [
       "      tipo_processo_licitatorio modalidade_empenho estado_empenho\n",
       "0                             F                  E             AP\n",
       "1                             F                  O             OR\n",
       "2                             N                  G             OR\n",
       "3                             F                  E             AP\n",
       "4                             F                  E             OR\n",
       "...                         ...                ...            ...\n",
       "20740                         F                  E             AT\n",
       "20741                         F                  O             OR\n",
       "20742                         R                  G             AP\n",
       "20743                         R                  G             AP\n",
       "20744                         R                  G             AP\n",
       "\n",
       "[20745 rows x 3 columns]"
      ]
     },
     "execution_count": 18,
     "metadata": {},
     "output_type": "execute_result"
    }
   ],
   "source": [
    "for coluna in ['tipo_processo_licitatorio', 'modalidade_empenho', 'estado_empenho']:\n",
    "    dataset[coluna] = dataset[coluna].astype('category')\n",
    "    \n",
    "categoricos = dataset[['tipo_processo_licitatorio', 'modalidade_empenho', 'estado_empenho']]\n",
    "categoricos"
   ]
  },
  {
   "cell_type": "code",
   "execution_count": 19,
   "metadata": {},
   "outputs": [
    {
     "data": {
      "text/plain": [
       "tipo_processo_licitatorio    category\n",
       "modalidade_empenho           category\n",
       "estado_empenho               category\n",
       "dtype: object"
      ]
     },
     "execution_count": 19,
     "metadata": {},
     "output_type": "execute_result"
    }
   ],
   "source": [
    "categoricos.dtypes"
   ]
  },
  {
   "cell_type": "code",
   "execution_count": 20,
   "metadata": {},
   "outputs": [
    {
     "data": {
      "text/html": [
       "<div>\n",
       "<style scoped>\n",
       "    .dataframe tbody tr th:only-of-type {\n",
       "        vertical-align: middle;\n",
       "    }\n",
       "\n",
       "    .dataframe tbody tr th {\n",
       "        vertical-align: top;\n",
       "    }\n",
       "\n",
       "    .dataframe thead th {\n",
       "        text-align: right;\n",
       "    }\n",
       "</style>\n",
       "<table border=\"1\" class=\"dataframe\">\n",
       "  <thead>\n",
       "    <tr style=\"text-align: right;\">\n",
       "      <th></th>\n",
       "      <th>codigo_municipio</th>\n",
       "      <th>codigo_orgao</th>\n",
       "      <th>codigo_unidade</th>\n",
       "      <th>codigo_funcao</th>\n",
       "      <th>codigo_subfuncao</th>\n",
       "      <th>codigo_programa</th>\n",
       "      <th>codigo_elemento_despesa</th>\n",
       "      <th>valor_anterior_saldo_dotacao</th>\n",
       "      <th>valor_empenhado</th>\n",
       "      <th>numero_documento_negociante</th>\n",
       "      <th>codigo_tipo_negociante</th>\n",
       "    </tr>\n",
       "  </thead>\n",
       "  <tbody>\n",
       "    <tr>\n",
       "      <th>count</th>\n",
       "      <td>20745.000000</td>\n",
       "      <td>20745.000000</td>\n",
       "      <td>20745.000000</td>\n",
       "      <td>20745.000000</td>\n",
       "      <td>20745.000000</td>\n",
       "      <td>20745.000000</td>\n",
       "      <td>2.074500e+04</td>\n",
       "      <td>2.074500e+04</td>\n",
       "      <td>2.074500e+04</td>\n",
       "      <td>2.074500e+04</td>\n",
       "      <td>20745.000000</td>\n",
       "    </tr>\n",
       "    <tr>\n",
       "      <th>mean</th>\n",
       "      <td>91.988190</td>\n",
       "      <td>9.429115</td>\n",
       "      <td>4.586358</td>\n",
       "      <td>11.508894</td>\n",
       "      <td>244.082333</td>\n",
       "      <td>320.030465</td>\n",
       "      <td>3.371498e+07</td>\n",
       "      <td>2.772120e+05</td>\n",
       "      <td>5.168450e+04</td>\n",
       "      <td>8.914097e+12</td>\n",
       "      <td>1.889708</td>\n",
       "    </tr>\n",
       "    <tr>\n",
       "      <th>std</th>\n",
       "      <td>49.879914</td>\n",
       "      <td>6.745233</td>\n",
       "      <td>14.353882</td>\n",
       "      <td>5.591147</td>\n",
       "      <td>166.461074</td>\n",
       "      <td>748.416135</td>\n",
       "      <td>1.678175e+06</td>\n",
       "      <td>5.753004e+05</td>\n",
       "      <td>2.980531e+05</td>\n",
       "      <td>1.278340e+13</td>\n",
       "      <td>1.641948</td>\n",
       "    </tr>\n",
       "    <tr>\n",
       "      <th>min</th>\n",
       "      <td>2.000000</td>\n",
       "      <td>1.000000</td>\n",
       "      <td>0.000000</td>\n",
       "      <td>3.000000</td>\n",
       "      <td>91.000000</td>\n",
       "      <td>1.000000</td>\n",
       "      <td>3.190010e+07</td>\n",
       "      <td>-4.450501e+05</td>\n",
       "      <td>5.400000e-01</td>\n",
       "      <td>1.910000e+02</td>\n",
       "      <td>1.000000</td>\n",
       "    </tr>\n",
       "    <tr>\n",
       "      <th>25%</th>\n",
       "      <td>50.000000</td>\n",
       "      <td>5.000000</td>\n",
       "      <td>1.000000</td>\n",
       "      <td>8.000000</td>\n",
       "      <td>122.000000</td>\n",
       "      <td>7.000000</td>\n",
       "      <td>3.390300e+07</td>\n",
       "      <td>2.500000e+04</td>\n",
       "      <td>1.000000e+03</td>\n",
       "      <td>6.666667e+10</td>\n",
       "      <td>1.000000</td>\n",
       "    </tr>\n",
       "    <tr>\n",
       "      <th>50%</th>\n",
       "      <td>90.000000</td>\n",
       "      <td>9.000000</td>\n",
       "      <td>1.000000</td>\n",
       "      <td>12.000000</td>\n",
       "      <td>122.000000</td>\n",
       "      <td>35.000000</td>\n",
       "      <td>3.390360e+07</td>\n",
       "      <td>8.674567e+04</td>\n",
       "      <td>3.240000e+03</td>\n",
       "      <td>5.282559e+12</td>\n",
       "      <td>1.000000</td>\n",
       "    </tr>\n",
       "    <tr>\n",
       "      <th>75%</th>\n",
       "      <td>137.000000</td>\n",
       "      <td>11.000000</td>\n",
       "      <td>3.000000</td>\n",
       "      <td>13.000000</td>\n",
       "      <td>368.000000</td>\n",
       "      <td>251.000000</td>\n",
       "      <td>3.390390e+07</td>\n",
       "      <td>2.832423e+05</td>\n",
       "      <td>1.600000e+04</td>\n",
       "      <td>1.179293e+13</td>\n",
       "      <td>2.000000</td>\n",
       "    </tr>\n",
       "    <tr>\n",
       "      <th>max</th>\n",
       "      <td>185.000000</td>\n",
       "      <td>44.000000</td>\n",
       "      <td>101.000000</td>\n",
       "      <td>28.000000</td>\n",
       "      <td>846.000000</td>\n",
       "      <td>9904.000000</td>\n",
       "      <td>4.690710e+07</td>\n",
       "      <td>1.500000e+07</td>\n",
       "      <td>9.000000e+06</td>\n",
       "      <td>9.754973e+13</td>\n",
       "      <td>7.000000</td>\n",
       "    </tr>\n",
       "  </tbody>\n",
       "</table>\n",
       "</div>"
      ],
      "text/plain": [
       "       codigo_municipio  codigo_orgao  codigo_unidade  codigo_funcao  \\\n",
       "count      20745.000000  20745.000000    20745.000000   20745.000000   \n",
       "mean          91.988190      9.429115        4.586358      11.508894   \n",
       "std           49.879914      6.745233       14.353882       5.591147   \n",
       "min            2.000000      1.000000        0.000000       3.000000   \n",
       "25%           50.000000      5.000000        1.000000       8.000000   \n",
       "50%           90.000000      9.000000        1.000000      12.000000   \n",
       "75%          137.000000     11.000000        3.000000      13.000000   \n",
       "max          185.000000     44.000000      101.000000      28.000000   \n",
       "\n",
       "       codigo_subfuncao  codigo_programa  codigo_elemento_despesa  \\\n",
       "count      20745.000000     20745.000000             2.074500e+04   \n",
       "mean         244.082333       320.030465             3.371498e+07   \n",
       "std          166.461074       748.416135             1.678175e+06   \n",
       "min           91.000000         1.000000             3.190010e+07   \n",
       "25%          122.000000         7.000000             3.390300e+07   \n",
       "50%          122.000000        35.000000             3.390360e+07   \n",
       "75%          368.000000       251.000000             3.390390e+07   \n",
       "max          846.000000      9904.000000             4.690710e+07   \n",
       "\n",
       "       valor_anterior_saldo_dotacao  valor_empenhado  \\\n",
       "count                  2.074500e+04     2.074500e+04   \n",
       "mean                   2.772120e+05     5.168450e+04   \n",
       "std                    5.753004e+05     2.980531e+05   \n",
       "min                   -4.450501e+05     5.400000e-01   \n",
       "25%                    2.500000e+04     1.000000e+03   \n",
       "50%                    8.674567e+04     3.240000e+03   \n",
       "75%                    2.832423e+05     1.600000e+04   \n",
       "max                    1.500000e+07     9.000000e+06   \n",
       "\n",
       "       numero_documento_negociante  codigo_tipo_negociante  \n",
       "count                 2.074500e+04            20745.000000  \n",
       "mean                  8.914097e+12                1.889708  \n",
       "std                   1.278340e+13                1.641948  \n",
       "min                   1.910000e+02                1.000000  \n",
       "25%                   6.666667e+10                1.000000  \n",
       "50%                   5.282559e+12                1.000000  \n",
       "75%                   1.179293e+13                2.000000  \n",
       "max                   9.754973e+13                7.000000  "
      ]
     },
     "execution_count": 20,
     "metadata": {},
     "output_type": "execute_result"
    }
   ],
   "source": [
    "dataset.describe()"
   ]
  },
  {
   "cell_type": "markdown",
   "metadata": {},
   "source": [
    "## Verificar se existe empenhos duplicados"
   ]
  },
  {
   "cell_type": "code",
   "execution_count": 21,
   "metadata": {},
   "outputs": [
    {
     "data": {
      "text/html": [
       "<div>\n",
       "<style scoped>\n",
       "    .dataframe tbody tr th:only-of-type {\n",
       "        vertical-align: middle;\n",
       "    }\n",
       "\n",
       "    .dataframe tbody tr th {\n",
       "        vertical-align: top;\n",
       "    }\n",
       "\n",
       "    .dataframe thead th {\n",
       "        text-align: right;\n",
       "    }\n",
       "</style>\n",
       "<table border=\"1\" class=\"dataframe\">\n",
       "  <thead>\n",
       "    <tr style=\"text-align: right;\">\n",
       "      <th></th>\n",
       "      <th>codigo_municipio</th>\n",
       "      <th>nome_municipio</th>\n",
       "      <th>codigo_orgao</th>\n",
       "      <th>codigo_unidade</th>\n",
       "      <th>data_emissao_empenho</th>\n",
       "      <th>numero_empenho</th>\n",
       "      <th>codigo_funcao</th>\n",
       "      <th>codigo_subfuncao</th>\n",
       "      <th>codigo_programa</th>\n",
       "      <th>codigo_elemento_despesa</th>\n",
       "      <th>...</th>\n",
       "      <th>valor_empenhado</th>\n",
       "      <th>tipo_processo_licitatorio</th>\n",
       "      <th>numero_documento_negociante</th>\n",
       "      <th>estado_empenho</th>\n",
       "      <th>codigo_tipo_negociante</th>\n",
       "      <th>nome_negociante</th>\n",
       "      <th>situacao_favorecido</th>\n",
       "      <th>data_situacao</th>\n",
       "      <th>atividade_principal_texto</th>\n",
       "      <th>atividade_principal_codigo</th>\n",
       "    </tr>\n",
       "  </thead>\n",
       "  <tbody>\n",
       "    <tr>\n",
       "      <th>188</th>\n",
       "      <td>7</td>\n",
       "      <td>ALCANTARAS</td>\n",
       "      <td>12</td>\n",
       "      <td>1</td>\n",
       "      <td>2017-01-02</td>\n",
       "      <td>02010047</td>\n",
       "      <td>4</td>\n",
       "      <td>122</td>\n",
       "      <td>5</td>\n",
       "      <td>31901300</td>\n",
       "      <td>...</td>\n",
       "      <td>46200.00</td>\n",
       "      <td>F</td>\n",
       "      <td>29979036004480</td>\n",
       "      <td>AP</td>\n",
       "      <td>1</td>\n",
       "      <td>INSTITUTO NACIONAL DO SEGURO SOCIAL</td>\n",
       "      <td>ATIVA</td>\n",
       "      <td>2005-03-11</td>\n",
       "      <td>Seguridade social obrigatória</td>\n",
       "      <td>84.30-2-00</td>\n",
       "    </tr>\n",
       "    <tr>\n",
       "      <th>189</th>\n",
       "      <td>7</td>\n",
       "      <td>ALCANTARAS</td>\n",
       "      <td>12</td>\n",
       "      <td>1</td>\n",
       "      <td>2017-01-10</td>\n",
       "      <td>10010011</td>\n",
       "      <td>4</td>\n",
       "      <td>122</td>\n",
       "      <td>5</td>\n",
       "      <td>31909200</td>\n",
       "      <td>...</td>\n",
       "      <td>9055.71</td>\n",
       "      <td>F</td>\n",
       "      <td>7598626000190</td>\n",
       "      <td>OR</td>\n",
       "      <td>1</td>\n",
       "      <td>FOLHA DE PAGAMENTO</td>\n",
       "      <td>ATIVA</td>\n",
       "      <td>2005-03-11</td>\n",
       "      <td>Administração pública em geral</td>\n",
       "      <td>84.11-6-00</td>\n",
       "    </tr>\n",
       "    <tr>\n",
       "      <th>190</th>\n",
       "      <td>7</td>\n",
       "      <td>ALCANTARAS</td>\n",
       "      <td>12</td>\n",
       "      <td>1</td>\n",
       "      <td>2017-01-27</td>\n",
       "      <td>27010001</td>\n",
       "      <td>4</td>\n",
       "      <td>122</td>\n",
       "      <td>5</td>\n",
       "      <td>33903000</td>\n",
       "      <td>...</td>\n",
       "      <td>479.80</td>\n",
       "      <td>F</td>\n",
       "      <td>12671108000195</td>\n",
       "      <td>OR</td>\n",
       "      <td>1</td>\n",
       "      <td>JOSÉ AMAURY LOPES TABOSA - ME</td>\n",
       "      <td>BAIXADA</td>\n",
       "      <td>2018-10-15</td>\n",
       "      <td>********</td>\n",
       "      <td>00.00-0-00</td>\n",
       "    </tr>\n",
       "    <tr>\n",
       "      <th>191</th>\n",
       "      <td>7</td>\n",
       "      <td>ALCANTARAS</td>\n",
       "      <td>12</td>\n",
       "      <td>1</td>\n",
       "      <td>2017-01-30</td>\n",
       "      <td>30010029</td>\n",
       "      <td>4</td>\n",
       "      <td>122</td>\n",
       "      <td>5</td>\n",
       "      <td>31901100</td>\n",
       "      <td>...</td>\n",
       "      <td>17884.37</td>\n",
       "      <td>F</td>\n",
       "      <td>66666666666</td>\n",
       "      <td>OR</td>\n",
       "      <td>6</td>\n",
       "      <td>FOLHA DE PAGAMENTO - SECRETARIA DE CULTURA</td>\n",
       "      <td>NaN</td>\n",
       "      <td>NaT</td>\n",
       "      <td>NaN</td>\n",
       "      <td>NaN</td>\n",
       "    </tr>\n",
       "    <tr>\n",
       "      <th>192</th>\n",
       "      <td>7</td>\n",
       "      <td>ALCANTARAS</td>\n",
       "      <td>12</td>\n",
       "      <td>2</td>\n",
       "      <td>2017-01-02</td>\n",
       "      <td>02010048</td>\n",
       "      <td>13</td>\n",
       "      <td>392</td>\n",
       "      <td>22</td>\n",
       "      <td>31901300</td>\n",
       "      <td>...</td>\n",
       "      <td>11550.00</td>\n",
       "      <td>F</td>\n",
       "      <td>29979036004480</td>\n",
       "      <td>AP</td>\n",
       "      <td>1</td>\n",
       "      <td>INSTITUTO NACIONAL DO SEGURO SOCIAL</td>\n",
       "      <td>ATIVA</td>\n",
       "      <td>2005-03-11</td>\n",
       "      <td>Seguridade social obrigatória</td>\n",
       "      <td>84.30-2-00</td>\n",
       "    </tr>\n",
       "    <tr>\n",
       "      <th>...</th>\n",
       "      <td>...</td>\n",
       "      <td>...</td>\n",
       "      <td>...</td>\n",
       "      <td>...</td>\n",
       "      <td>...</td>\n",
       "      <td>...</td>\n",
       "      <td>...</td>\n",
       "      <td>...</td>\n",
       "      <td>...</td>\n",
       "      <td>...</td>\n",
       "      <td>...</td>\n",
       "      <td>...</td>\n",
       "      <td>...</td>\n",
       "      <td>...</td>\n",
       "      <td>...</td>\n",
       "      <td>...</td>\n",
       "      <td>...</td>\n",
       "      <td>...</td>\n",
       "      <td>...</td>\n",
       "      <td>...</td>\n",
       "      <td>...</td>\n",
       "    </tr>\n",
       "    <tr>\n",
       "      <th>20634</th>\n",
       "      <td>184</td>\n",
       "      <td>ITAITINGA</td>\n",
       "      <td>8</td>\n",
       "      <td>1</td>\n",
       "      <td>2020-01-17</td>\n",
       "      <td>17010012</td>\n",
       "      <td>13</td>\n",
       "      <td>122</td>\n",
       "      <td>7</td>\n",
       "      <td>33903900</td>\n",
       "      <td>...</td>\n",
       "      <td>47.38</td>\n",
       "      <td>F</td>\n",
       "      <td>7047251000170</td>\n",
       "      <td>OR</td>\n",
       "      <td>1</td>\n",
       "      <td>ENEL - COMPANHIA ENERGETICA DO CEARA</td>\n",
       "      <td>ATIVA</td>\n",
       "      <td>2005-03-11</td>\n",
       "      <td>Distribuição de energia elétrica</td>\n",
       "      <td>35.14-0-00</td>\n",
       "    </tr>\n",
       "    <tr>\n",
       "      <th>20635</th>\n",
       "      <td>184</td>\n",
       "      <td>ITAITINGA</td>\n",
       "      <td>8</td>\n",
       "      <td>1</td>\n",
       "      <td>2020-01-24</td>\n",
       "      <td>24010006</td>\n",
       "      <td>13</td>\n",
       "      <td>122</td>\n",
       "      <td>7</td>\n",
       "      <td>33903900</td>\n",
       "      <td>...</td>\n",
       "      <td>1400.00</td>\n",
       "      <td>F</td>\n",
       "      <td>31529891000100</td>\n",
       "      <td>OR</td>\n",
       "      <td>1</td>\n",
       "      <td>ROBERTO GOMES MONTE 02722574357</td>\n",
       "      <td>ATIVA</td>\n",
       "      <td>2018-09-17</td>\n",
       "      <td>Manutenção e reparação de geradores, transform...</td>\n",
       "      <td>33.13-9-01</td>\n",
       "    </tr>\n",
       "    <tr>\n",
       "      <th>20636</th>\n",
       "      <td>184</td>\n",
       "      <td>ITAITINGA</td>\n",
       "      <td>8</td>\n",
       "      <td>1</td>\n",
       "      <td>2020-01-31</td>\n",
       "      <td>31010005</td>\n",
       "      <td>13</td>\n",
       "      <td>122</td>\n",
       "      <td>7</td>\n",
       "      <td>33903900</td>\n",
       "      <td>...</td>\n",
       "      <td>4530.00</td>\n",
       "      <td>N</td>\n",
       "      <td>26033638000112</td>\n",
       "      <td>OR</td>\n",
       "      <td>1</td>\n",
       "      <td>SERRA EVOLUTE LOCAÇÃO E LIMPEZA LTDA</td>\n",
       "      <td>ATIVA</td>\n",
       "      <td>2016-08-24</td>\n",
       "      <td>Coleta de resíduos perigosos</td>\n",
       "      <td>38.12-2-00</td>\n",
       "    </tr>\n",
       "    <tr>\n",
       "      <th>20637</th>\n",
       "      <td>184</td>\n",
       "      <td>ITAITINGA</td>\n",
       "      <td>8</td>\n",
       "      <td>1</td>\n",
       "      <td>2020-01-31</td>\n",
       "      <td>31010021</td>\n",
       "      <td>13</td>\n",
       "      <td>122</td>\n",
       "      <td>7</td>\n",
       "      <td>33903900</td>\n",
       "      <td>...</td>\n",
       "      <td>1000.00</td>\n",
       "      <td>F</td>\n",
       "      <td>34644654000170</td>\n",
       "      <td>OR</td>\n",
       "      <td>1</td>\n",
       "      <td>FRANCISCO CRISTIANO NASCIMENTO DOS SANTOS</td>\n",
       "      <td>ATIVA</td>\n",
       "      <td>2019-08-23</td>\n",
       "      <td>Edição de cadastros, listas e de outros produt...</td>\n",
       "      <td>58.19-1-00</td>\n",
       "    </tr>\n",
       "    <tr>\n",
       "      <th>20638</th>\n",
       "      <td>184</td>\n",
       "      <td>ITAITINGA</td>\n",
       "      <td>8</td>\n",
       "      <td>1</td>\n",
       "      <td>2020-01-31</td>\n",
       "      <td>31010043</td>\n",
       "      <td>13</td>\n",
       "      <td>122</td>\n",
       "      <td>7</td>\n",
       "      <td>33903900</td>\n",
       "      <td>...</td>\n",
       "      <td>1100.00</td>\n",
       "      <td>N</td>\n",
       "      <td>15243080000183</td>\n",
       "      <td>OR</td>\n",
       "      <td>1</td>\n",
       "      <td>CONSULT ASSESSORIA E CONSULTORIA EMPRESARIAL LTDA</td>\n",
       "      <td>ATIVA</td>\n",
       "      <td>2012-03-21</td>\n",
       "      <td>Serviços combinados de escritório e apoio admi...</td>\n",
       "      <td>82.11-3-00</td>\n",
       "    </tr>\n",
       "  </tbody>\n",
       "</table>\n",
       "<p>3224 rows × 23 columns</p>\n",
       "</div>"
      ],
      "text/plain": [
       "       codigo_municipio nome_municipio  codigo_orgao  codigo_unidade  \\\n",
       "188                   7     ALCANTARAS            12               1   \n",
       "189                   7     ALCANTARAS            12               1   \n",
       "190                   7     ALCANTARAS            12               1   \n",
       "191                   7     ALCANTARAS            12               1   \n",
       "192                   7     ALCANTARAS            12               2   \n",
       "...                 ...            ...           ...             ...   \n",
       "20634               184      ITAITINGA             8               1   \n",
       "20635               184      ITAITINGA             8               1   \n",
       "20636               184      ITAITINGA             8               1   \n",
       "20637               184      ITAITINGA             8               1   \n",
       "20638               184      ITAITINGA             8               1   \n",
       "\n",
       "      data_emissao_empenho numero_empenho  codigo_funcao  codigo_subfuncao  \\\n",
       "188             2017-01-02       02010047              4               122   \n",
       "189             2017-01-10       10010011              4               122   \n",
       "190             2017-01-27       27010001              4               122   \n",
       "191             2017-01-30       30010029              4               122   \n",
       "192             2017-01-02       02010048             13               392   \n",
       "...                    ...            ...            ...               ...   \n",
       "20634           2020-01-17       17010012             13               122   \n",
       "20635           2020-01-24       24010006             13               122   \n",
       "20636           2020-01-31       31010005             13               122   \n",
       "20637           2020-01-31       31010021             13               122   \n",
       "20638           2020-01-31       31010043             13               122   \n",
       "\n",
       "       codigo_programa  codigo_elemento_despesa  ... valor_empenhado  \\\n",
       "188                  5                 31901300  ...        46200.00   \n",
       "189                  5                 31909200  ...         9055.71   \n",
       "190                  5                 33903000  ...          479.80   \n",
       "191                  5                 31901100  ...        17884.37   \n",
       "192                 22                 31901300  ...        11550.00   \n",
       "...                ...                      ...  ...             ...   \n",
       "20634                7                 33903900  ...           47.38   \n",
       "20635                7                 33903900  ...         1400.00   \n",
       "20636                7                 33903900  ...         4530.00   \n",
       "20637                7                 33903900  ...         1000.00   \n",
       "20638                7                 33903900  ...         1100.00   \n",
       "\n",
       "      tipo_processo_licitatorio  numero_documento_negociante  estado_empenho  \\\n",
       "188                           F               29979036004480              AP   \n",
       "189                           F                7598626000190              OR   \n",
       "190                           F               12671108000195              OR   \n",
       "191                           F                  66666666666              OR   \n",
       "192                           F               29979036004480              AP   \n",
       "...                         ...                          ...             ...   \n",
       "20634                         F                7047251000170              OR   \n",
       "20635                         F               31529891000100              OR   \n",
       "20636                         N               26033638000112              OR   \n",
       "20637                         F               34644654000170              OR   \n",
       "20638                         N               15243080000183              OR   \n",
       "\n",
       "      codigo_tipo_negociante  \\\n",
       "188                        1   \n",
       "189                        1   \n",
       "190                        1   \n",
       "191                        6   \n",
       "192                        1   \n",
       "...                      ...   \n",
       "20634                      1   \n",
       "20635                      1   \n",
       "20636                      1   \n",
       "20637                      1   \n",
       "20638                      1   \n",
       "\n",
       "                                         nome_negociante situacao_favorecido  \\\n",
       "188                  INSTITUTO NACIONAL DO SEGURO SOCIAL               ATIVA   \n",
       "189                                   FOLHA DE PAGAMENTO               ATIVA   \n",
       "190                        JOSÉ AMAURY LOPES TABOSA - ME             BAIXADA   \n",
       "191           FOLHA DE PAGAMENTO - SECRETARIA DE CULTURA                 NaN   \n",
       "192                  INSTITUTO NACIONAL DO SEGURO SOCIAL               ATIVA   \n",
       "...                                                  ...                 ...   \n",
       "20634               ENEL - COMPANHIA ENERGETICA DO CEARA               ATIVA   \n",
       "20635                    ROBERTO GOMES MONTE 02722574357               ATIVA   \n",
       "20636               SERRA EVOLUTE LOCAÇÃO E LIMPEZA LTDA               ATIVA   \n",
       "20637          FRANCISCO CRISTIANO NASCIMENTO DOS SANTOS               ATIVA   \n",
       "20638  CONSULT ASSESSORIA E CONSULTORIA EMPRESARIAL LTDA               ATIVA   \n",
       "\n",
       "       data_situacao                          atividade_principal_texto  \\\n",
       "188       2005-03-11                      Seguridade social obrigatória   \n",
       "189       2005-03-11                     Administração pública em geral   \n",
       "190       2018-10-15                                           ********   \n",
       "191              NaT                                                NaN   \n",
       "192       2005-03-11                      Seguridade social obrigatória   \n",
       "...              ...                                                ...   \n",
       "20634     2005-03-11                   Distribuição de energia elétrica   \n",
       "20635     2018-09-17  Manutenção e reparação de geradores, transform...   \n",
       "20636     2016-08-24                       Coleta de resíduos perigosos   \n",
       "20637     2019-08-23  Edição de cadastros, listas e de outros produt...   \n",
       "20638     2012-03-21  Serviços combinados de escritório e apoio admi...   \n",
       "\n",
       "      atividade_principal_codigo  \n",
       "188                   84.30-2-00  \n",
       "189                   84.11-6-00  \n",
       "190                   00.00-0-00  \n",
       "191                          NaN  \n",
       "192                   84.30-2-00  \n",
       "...                          ...  \n",
       "20634                 35.14-0-00  \n",
       "20635                 33.13-9-01  \n",
       "20636                 38.12-2-00  \n",
       "20637                 58.19-1-00  \n",
       "20638                 82.11-3-00  \n",
       "\n",
       "[3224 rows x 23 columns]"
      ]
     },
     "execution_count": 21,
     "metadata": {},
     "output_type": "execute_result"
    }
   ],
   "source": [
    "duplicados = dataset.duplicated()\n",
    "df_empenhos_duplicados = dataset[duplicados]\n",
    "df_empenhos_duplicados"
   ]
  },
  {
   "cell_type": "markdown",
   "metadata": {},
   "source": [
    "# Remover empenhos duplicados"
   ]
  },
  {
   "cell_type": "code",
   "execution_count": 22,
   "metadata": {},
   "outputs": [
    {
     "data": {
      "text/plain": [
       "(17521, 23)"
      ]
     },
     "execution_count": 22,
     "metadata": {},
     "output_type": "execute_result"
    }
   ],
   "source": [
    "dataset.drop_duplicates(inplace = True)\n",
    "dataset.shape"
   ]
  },
  {
   "cell_type": "markdown",
   "metadata": {},
   "source": [
    "# ANÁLISE ESTATÍSTICA E EXPLORATÓRIA\n",
    "\n",
    "Medidas de Tendência Central ou Estimativa de Parâmetro"
   ]
  },
  {
   "cell_type": "markdown",
   "metadata": {},
   "source": [
    "## Qual a média dos empenhos"
   ]
  },
  {
   "cell_type": "code",
   "execution_count": 23,
   "metadata": {},
   "outputs": [
    {
     "name": "stdout",
     "output_type": "stream",
     "text": [
      "Média dos empenhos: 53711.089645568194\n"
     ]
    }
   ],
   "source": [
    "empenhoMedio = dataset['valor_empenhado'].mean()\n",
    "print('Média dos empenhos:', empenhoMedio)"
   ]
  },
  {
   "cell_type": "code",
   "execution_count": 24,
   "metadata": {},
   "outputs": [],
   "source": [
    "# Criando nova coluna 'ano' para obter a média dos empenhos por ano\n",
    "dataset['ano'] = dataset['data_emissao_empenho'].map(lambda x: str(x).split('-')[0])"
   ]
  },
  {
   "cell_type": "code",
   "execution_count": 25,
   "metadata": {},
   "outputs": [
    {
     "name": "stdout",
     "output_type": "stream",
     "text": [
      "Média dos empenhos por ano\n",
      "2017: 60225.43267313019\n",
      "2018: 59090.52218973055\n",
      "2019: 52945.8256893939\n",
      "2020: 46099.17257684628\n"
     ]
    }
   ],
   "source": [
    "mr = dataset.groupby('ano').mean().reset_index()\n",
    "\n",
    "print('Média dos empenhos por ano')\n",
    "for i in mr.index:\n",
    "    ano = mr.iloc[i]['ano']\n",
    "    valor = mr.iloc[i]['valor_empenhado']\n",
    "    print(\"{}: {}\".format(ano, valor))"
   ]
  },
  {
   "cell_type": "markdown",
   "metadata": {},
   "source": [
    "## Qual a mediana dos empenhos"
   ]
  },
  {
   "cell_type": "code",
   "execution_count": 26,
   "metadata": {},
   "outputs": [
    {
     "name": "stdout",
     "output_type": "stream",
     "text": [
      "Mediana dos empenhos: 3300.0\n"
     ]
    }
   ],
   "source": [
    "mediana = dataset['valor_empenhado'].median()\n",
    "print('Mediana dos empenhos:', mediana)"
   ]
  },
  {
   "cell_type": "code",
   "execution_count": 27,
   "metadata": {},
   "outputs": [
    {
     "name": "stdout",
     "output_type": "stream",
     "text": [
      "Mediana dos empenhos por ano\n",
      "2017: 3991.65\n",
      "2018: 3452.16\n",
      "2019: 3000.0\n",
      "2020: 3368.23\n"
     ]
    }
   ],
   "source": [
    "print('Mediana dos empenhos por ano')\n",
    "\n",
    "mr = dataset.groupby('ano').median().reset_index()\n",
    "\n",
    "for i in mr.index:\n",
    "    ano = mr.iloc[i]['ano']\n",
    "    valor = mr.iloc[i]['valor_empenhado']\n",
    "    print(\"{}: {}\".format(ano, valor))"
   ]
  },
  {
   "cell_type": "markdown",
   "metadata": {},
   "source": [
    "## Qual o desvio padrão dos empenhos\n",
    "O desvio é o resultado do valor observado menos a média"
   ]
  },
  {
   "cell_type": "code",
   "execution_count": 28,
   "metadata": {},
   "outputs": [
    {
     "data": {
      "text/plain": [
       "0         5838.910354\n",
       "1       -52161.089646\n",
       "2       -52676.089646\n",
       "3          483.910354\n",
       "4       -48711.089646\n",
       "             ...     \n",
       "20740   -40711.089646\n",
       "20741   -49780.929646\n",
       "20742   -48156.289646\n",
       "20743   -49549.739646\n",
       "20744   -51279.889646\n",
       "Name: valor_empenhado, Length: 17521, dtype: float64"
      ]
     },
     "execution_count": 28,
     "metadata": {},
     "output_type": "execute_result"
    }
   ],
   "source": [
    "empenhoDesvio = dataset['valor_empenhado'].apply(lambda valor: valor - empenhoMedio)\n",
    "empenhoDesvio"
   ]
  },
  {
   "cell_type": "markdown",
   "metadata": {},
   "source": [
    "## Desvio médio absoluto"
   ]
  },
  {
   "cell_type": "code",
   "execution_count": 29,
   "metadata": {},
   "outputs": [
    {
     "name": "stdout",
     "output_type": "stream",
     "text": [
      "Desvio Médio Absoluto: 80874.6666755944\n"
     ]
    }
   ],
   "source": [
    "soma = 0\n",
    "n = dataset.shape[0] # tamanho do dataset\n",
    "\n",
    "for i in range(n):\n",
    "    soma += abs(dataset['valor_empenhado'].iloc[i] - empenhoMedio)\n",
    "print('Desvio Médio Absoluto:', soma/n)"
   ]
  },
  {
   "cell_type": "code",
   "execution_count": 30,
   "metadata": {},
   "outputs": [
    {
     "data": {
      "text/plain": [
       "80874.6666755944"
      ]
     },
     "execution_count": 30,
     "metadata": {},
     "output_type": "execute_result"
    }
   ],
   "source": [
    "# Desvio médio absoluto usando o Pandas\n",
    "dataset['valor_empenhado'].mad()"
   ]
  },
  {
   "cell_type": "markdown",
   "metadata": {},
   "source": [
    "## Qual a variância dos empenhos"
   ]
  },
  {
   "cell_type": "code",
   "execution_count": 31,
   "metadata": {},
   "outputs": [
    {
     "data": {
      "text/plain": [
       "95945679962.75475"
      ]
     },
     "execution_count": 31,
     "metadata": {},
     "output_type": "execute_result"
    }
   ],
   "source": [
    "\n",
    "dataset['valor_empenhado'].var()"
   ]
  },
  {
   "cell_type": "markdown",
   "metadata": {},
   "source": [
    "## Qual o Desvio Padrão"
   ]
  },
  {
   "cell_type": "code",
   "execution_count": 32,
   "metadata": {},
   "outputs": [
    {
     "data": {
      "text/plain": [
       "309750.99670986494"
      ]
     },
     "execution_count": 32,
     "metadata": {},
     "output_type": "execute_result"
    }
   ],
   "source": [
    "\n",
    "dataset['valor_empenhado'].std()"
   ]
  },
  {
   "cell_type": "markdown",
   "metadata": {},
   "source": [
    "## Bloxpot"
   ]
  },
  {
   "cell_type": "code",
   "execution_count": 33,
   "metadata": {},
   "outputs": [
    {
     "data": {
      "text/plain": [
       "<AxesSubplot:>"
      ]
     },
     "execution_count": 33,
     "metadata": {},
     "output_type": "execute_result"
    },
    {
     "data": {
      "image/png": "[encoded data removed]",
      "text/plain": [
       "<Figure size 720x720 with 1 Axes>"
      ]
     },
     "metadata": {
      "needs_background": "light"
     },
     "output_type": "display_data"
    }
   ],
   "source": [
    "\n",
    "dataset.boxplot(column=['valor_empenhado'], fontsize='large', figsize=(10,10))"
   ]
  },
  {
   "cell_type": "code",
   "execution_count": 34,
   "metadata": {},
   "outputs": [
    {
     "data": {
      "text/plain": [
       "<AxesSubplot:title={'center':'valor_empenhado'}, xlabel='ano'>"
      ]
     },
     "execution_count": 34,
     "metadata": {},
     "output_type": "execute_result"
    },
    {
     "data": {
      "image/png": "[encoded data removed]",
      "text/plain": [
       "<Figure size 720x720 with 1 Axes>"
      ]
     },
     "metadata": {
      "needs_background": "light"
     },
     "output_type": "display_data"
    }
   ],
   "source": [
    "dataset.boxplot(by='ano', column=['valor_empenhado'], fontsize='large', figsize=(10,10))"
   ]
  },
  {
   "cell_type": "code",
   "execution_count": 35,
   "metadata": {},
   "outputs": [
    {
     "data": {
      "text/plain": [
       "Index(['codigo_municipio', 'nome_municipio', 'codigo_orgao', 'codigo_unidade',\n",
       "       'data_emissao_empenho', 'numero_empenho', 'codigo_funcao',\n",
       "       'codigo_subfuncao', 'codigo_programa', 'codigo_elemento_despesa',\n",
       "       'modalidade_empenho', 'descricao_empenho',\n",
       "       'valor_anterior_saldo_dotacao', 'valor_empenhado',\n",
       "       'tipo_processo_licitatorio', 'numero_documento_negociante',\n",
       "       'estado_empenho', 'codigo_tipo_negociante', 'nome_negociante',\n",
       "       'situacao_favorecido', 'data_situacao', 'atividade_principal_texto',\n",
       "       'atividade_principal_codigo', 'ano'],\n",
       "      dtype='object')"
      ]
     },
     "execution_count": 35,
     "metadata": {},
     "output_type": "execute_result"
    }
   ],
   "source": [
    "dataset.columns"
   ]
  },
  {
   "cell_type": "markdown",
   "metadata": {},
   "source": [
    "PARTE DOIS"
   ]
  },
  {
   "cell_type": "markdown",
   "metadata": {},
   "source": [
    "# Tabela de Frequência"
   ]
  },
  {
   "cell_type": "code",
   "execution_count": 56,
   "metadata": {},
   "outputs": [
    {
     "name": "stdout",
     "output_type": "stream",
     "text": [
      "Tamanho do dataset, n:  17521\n",
      "Fórmula de Sturges, k1:  16\n",
      "Fórmula da raiz quadrada, k2:  132\n"
     ]
    }
   ],
   "source": [
    "# Obter o número de classes/grupos (bins)\n",
    "# O número de intervalos não deve ultrapassar 20\n",
    "n = dataset.shape[0]\n",
    "\n",
    "k1 = math.ceil(1 + 3.3 * math.log10(n))\n",
    "k2 = int(math.sqrt(n))\n",
    "\n",
    "print('Tamanho do dataset, n: ', n)\n",
    "print('Fórmula de Sturges, k1: ',k1)\n",
    "print('Fórmula da raiz quadrada, k2: ',k2)"
   ]
  },
  {
   "cell_type": "code",
   "execution_count": 57,
   "metadata": {},
   "outputs": [
    {
     "name": "stdout",
     "output_type": "stream",
     "text": [
      "Escolhido, k: 16\n"
     ]
    }
   ],
   "source": [
    "# escolhendo o k\n",
    "k = k1 if k1 < k2 else k2\n",
    "print('Escolhido, k:', k)"
   ]
  },
  {
   "cell_type": "code",
   "execution_count": 58,
   "metadata": {},
   "outputs": [
    {
     "data": {
      "text/plain": [
       "(array([1.7226e+04, 1.5000e+02, 5.6000e+01, 3.2000e+01, 1.2000e+01,\n",
       "        1.3000e+01, 5.0000e+00, 5.0000e+00, 5.0000e+00, 2.0000e+00,\n",
       "        3.0000e+00, 2.0000e+00, 4.0000e+00, 1.0000e+00, 2.0000e+00,\n",
       "        3.0000e+00]),\n",
       " array([5.40000000e-01, 5.62500506e+05, 1.12500047e+06, 1.68750044e+06,\n",
       "        2.25000041e+06, 2.81250037e+06, 3.37500034e+06, 3.93750030e+06,\n",
       "        4.50000027e+06, 5.06250024e+06, 5.62500020e+06, 6.18750017e+06,\n",
       "        6.75000014e+06, 7.31250010e+06, 7.87500007e+06, 8.43750003e+06,\n",
       "        9.00000000e+06]),\n",
       " <BarContainer object of 16 artists>)"
      ]
     },
     "execution_count": 58,
     "metadata": {},
     "output_type": "execute_result"
    },
    {
     "data": {
      "image/png": "[encoded data removed]",
      "text/plain": [
       "<Figure size 432x288 with 1 Axes>"
      ]
     },
     "metadata": {
      "needs_background": "light"
     },
     "output_type": "display_data"
    }
   ],
   "source": [
    "plt.hist(dataset['valor_empenhado'], bins=k)"
   ]
  },
  {
   "cell_type": "markdown",
   "metadata": {},
   "source": [
    "## Aplicando a Trasnformação Logarítmica"
   ]
  },
  {
   "cell_type": "code",
   "execution_count": 59,
   "metadata": {},
   "outputs": [
    {
     "data": {
      "text/plain": [
       "(array([   6.,   13.,   45.,  102.,  405.,  943., 2162., 3805., 3245.,\n",
       "        2514., 1783., 1386.,  654.,  313.,  111.,   34.]),\n",
       " array([-0.61618614,  0.42312144,  1.46242902,  2.5017366 ,  3.54104418,\n",
       "         4.58035176,  5.61965934,  6.65896692,  7.6982745 ,  8.73758208,\n",
       "         9.77688966, 10.81619724, 11.85550482, 12.8948124 , 13.93411998,\n",
       "        14.97342756, 16.01273514]),\n",
       " <BarContainer object of 16 artists>)"
      ]
     },
     "execution_count": 59,
     "metadata": {},
     "output_type": "execute_result"
    },
    {
     "data": {
      "image/png": "[encoded data removed]",
      "text/plain": [
       "<Figure size 432x288 with 1 Axes>"
      ]
     },
     "metadata": {
      "needs_background": "light"
     },
     "output_type": "display_data"
    }
   ],
   "source": [
    "plt.hist(np.log(dataset['valor_empenhado']), bins=k)"
   ]
  },
  {
   "cell_type": "markdown",
   "metadata": {},
   "source": [
    "# Quais tipos de empenhos e os significados das features\n",
    " O link a seguir trata-se do Manual do Sistema de Informações do TCE. Nele está contido o dicionário dos campos das Nota de Empenho:\n",
    " \n",
    " https://www.tce.ce.gov.br/downloads/ASCOM/Pdfs/manual_sim_2019.pdf\n",
    " "
   ]
  },
  {
   "cell_type": "code",
   "execution_count": 39,
   "metadata": {},
   "outputs": [
    {
     "data": {
      "image/png": "[encoded data removed]",
      "text/plain": [
       "<Figure size 432x288 with 1 Axes>"
      ]
     },
     "metadata": {
      "needs_background": "light"
     },
     "output_type": "display_data"
    }
   ],
   "source": [
    "import  seaborn as sns\n",
    "sns.countplot(x=dataset['estado_empenho']);"
   ]
  },
  {
   "cell_type": "code",
   "execution_count": 40,
   "metadata": {},
   "outputs": [],
   "source": [
    "# “F”, para Dispensa de Licitação (Nos casos previstos no  art.  24,  incisos  I  e  II,  Lei  8666,  \n",
    "#      que  faculta  o envio do processo administrativo). \n",
    "# “D”, para Dispensa de Licitação (EXCETO os casos previstos no art. 24, incisos I e II, Lei 8666). \n",
    "# “I”, para Inexigibilidade de Licitação \n",
    "# “R”, para utilizar Ata de Registro de Preços \n",
    "# “N”, para Processo Licitatório ''\n",
    "# “P”, para Regras Próprias de Organismos Internacionais "
   ]
  },
  {
   "cell_type": "code",
   "execution_count": 41,
   "metadata": {},
   "outputs": [
    {
     "data": {
      "image/png": "[encoded data removed]",
      "text/plain": [
       "<Figure size 432x288 with 1 Axes>"
      ]
     },
     "metadata": {
      "needs_background": "light"
     },
     "output_type": "display_data"
    }
   ],
   "source": [
    "sns.countplot(x=dataset['tipo_processo_licitatorio']);"
   ]
  },
  {
   "cell_type": "code",
   "execution_count": 42,
   "metadata": {},
   "outputs": [],
   "source": [
    "# “O”, para empenho Ordinário \n",
    "# “G”, para empenho Global \n",
    "# “E”, para empenho Estimativo "
   ]
  },
  {
   "cell_type": "code",
   "execution_count": 43,
   "metadata": {},
   "outputs": [
    {
     "data": {
      "image/png": "[encoded data removed]",
      "text/plain": [
       "<Figure size 432x288 with 1 Axes>"
      ]
     },
     "metadata": {
      "needs_background": "light"
     },
     "output_type": "display_data"
    }
   ],
   "source": [
    "sns.countplot(x = dataset['modalidade_empenho']);"
   ]
  },
  {
   "cell_type": "code",
   "execution_count": 44,
   "metadata": {},
   "outputs": [],
   "source": [
    "## Média dos empenhos (localizar a tendência central)"
   ]
  },
  {
   "cell_type": "code",
   "execution_count": 45,
   "metadata": {},
   "outputs": [],
   "source": [
    "dt_copy = dataset.copy()\n",
    "# np.unique(dt_copy[nome], return_counts=True)"
   ]
  },
  {
   "cell_type": "markdown",
   "metadata": {},
   "source": [
    "# AGRUPANDO EMPENHOS POR MUNICÍPIO"
   ]
  },
  {
   "cell_type": "code",
   "execution_count": 96,
   "metadata": {},
   "outputs": [
    {
     "data": {
      "text/plain": [
       "Int64Index([  2,   3,   4,   5,   7,   8,   9,  10,  11,  12,\n",
       "            ...\n",
       "            176, 177, 178, 179, 180, 181, 182, 183, 184, 185],\n",
       "           dtype='int64', name='codigo_municipio', length=179)"
      ]
     },
     "execution_count": 96,
     "metadata": {},
     "output_type": "execute_result"
    }
   ],
   "source": [
    "codigos_municipio = dt_copy.groupby('codigo_municipio').count()\n",
    "codigos_municipio.index"
   ]
  },
  {
   "cell_type": "code",
   "execution_count": 91,
   "metadata": {},
   "outputs": [
    {
     "data": {
      "image/png": "[encoded data removed]",
      "text/plain": [
       "<Figure size 432x288 with 1 Axes>"
      ]
     },
     "metadata": {
      "needs_background": "light"
     },
     "output_type": "display_data"
    }
   ],
   "source": [
    "qtde_empenhos_por_municipio = dt_copy.groupby('codigo_municipio').count()['valor_empenhado']\n",
    "qtde_empenhos_por_municipio.plot();"
   ]
  },
  {
   "cell_type": "code",
   "execution_count": 101,
   "metadata": {},
   "outputs": [
    {
     "data": {
      "text/plain": [
       "codigo_municipio\n",
       "2        194330.00\n",
       "3        262017.34\n",
       "4       2998011.92\n",
       "5       1368134.65\n",
       "7       1803053.61\n",
       "          ...     \n",
       "181      222025.48\n",
       "182      737431.47\n",
       "183      513259.58\n",
       "184      264621.42\n",
       "185    20566933.02\n",
       "Name: valor_empenhado, Length: 179, dtype: float64"
      ]
     },
     "execution_count": 101,
     "metadata": {},
     "output_type": "execute_result"
    }
   ],
   "source": [
    "somas_valores_empenhos_por_municipio = dt_copy.groupby('codigo_municipio').sum()['valor_empenhado']\n",
    "somas_valores_empenhos_por_municipio"
   ]
  },
  {
   "cell_type": "code",
   "execution_count": 126,
   "metadata": {},
   "outputs": [
    {
     "data": {
      "text/plain": [
       "Text(0.5, 1.0, 'Relação Município x Gastos')"
      ]
     },
     "execution_count": 126,
     "metadata": {},
     "output_type": "execute_result"
    },
    {
     "data": {
      "image/png": "[encoded data removed]",
      "text/plain": [
       "<Figure size 1152x288 with 2 Axes>"
      ]
     },
     "metadata": {
      "needs_background": "light"
     },
     "output_type": "display_data"
    }
   ],
   "source": [
    "width = 16\n",
    "heigth = 4\n",
    "fig, ax = plt.subplots(nrows=1, ncols=2, figsize=(width, heigth))\n",
    "ax[0].plot(qtde_empenhos_por_municipio, 'r--')\n",
    "ax[1].plot(somas_valores_empenhos_por_municipio, 'g-')\n",
    "# ax.plot(codigos_municipio, somas_valores_empenhos_por_municipio, 'r--')\n",
    "ax[0].set_xlabel('Municipios')\n",
    "ax[0].set_ylabel('Qtde Empenhos')\n",
    "ax[0].set_title('Relação Município x Qtde de Empenhos')\n",
    "\n",
    "ax[1].set_xlabel('Municipios')\n",
    "ax[1].set_ylabel('Valores')\n",
    "ax[1].set_title('Relação Município x Gastos')"
   ]
  },
  {
   "cell_type": "code",
   "execution_count": 127,
   "metadata": {},
   "outputs": [
    {
     "data": {
      "text/html": [
       "<div>\n",
       "<style scoped>\n",
       "    .dataframe tbody tr th:only-of-type {\n",
       "        vertical-align: middle;\n",
       "    }\n",
       "\n",
       "    .dataframe tbody tr th {\n",
       "        vertical-align: top;\n",
       "    }\n",
       "\n",
       "    .dataframe thead th {\n",
       "        text-align: right;\n",
       "    }\n",
       "</style>\n",
       "<table border=\"1\" class=\"dataframe\">\n",
       "  <thead>\n",
       "    <tr style=\"text-align: right;\">\n",
       "      <th></th>\n",
       "      <th>valor_empenhado</th>\n",
       "    </tr>\n",
       "    <tr>\n",
       "      <th>nome_municipio</th>\n",
       "      <th></th>\n",
       "    </tr>\n",
       "  </thead>\n",
       "  <tbody>\n",
       "    <tr>\n",
       "      <th>ITATIRA</th>\n",
       "      <td>60864442.94</td>\n",
       "    </tr>\n",
       "    <tr>\n",
       "      <th>JAGUARIBE</th>\n",
       "      <td>60803913.20</td>\n",
       "    </tr>\n",
       "    <tr>\n",
       "      <th>CRUZ</th>\n",
       "      <td>58481544.96</td>\n",
       "    </tr>\n",
       "    <tr>\n",
       "      <th>MARACANAU</th>\n",
       "      <td>53319252.70</td>\n",
       "    </tr>\n",
       "    <tr>\n",
       "      <th>MARCO</th>\n",
       "      <td>47150880.62</td>\n",
       "    </tr>\n",
       "    <tr>\n",
       "      <th>...</th>\n",
       "      <td>...</td>\n",
       "    </tr>\n",
       "    <tr>\n",
       "      <th>FRECHEIRINHA</th>\n",
       "      <td>99820.00</td>\n",
       "    </tr>\n",
       "    <tr>\n",
       "      <th>UMARI</th>\n",
       "      <td>94065.00</td>\n",
       "    </tr>\n",
       "    <tr>\n",
       "      <th>SOLONOPOLE</th>\n",
       "      <td>92593.27</td>\n",
       "    </tr>\n",
       "    <tr>\n",
       "      <th>GRANJEIRO</th>\n",
       "      <td>88072.00</td>\n",
       "    </tr>\n",
       "    <tr>\n",
       "      <th>POTENGI</th>\n",
       "      <td>77566.03</td>\n",
       "    </tr>\n",
       "  </tbody>\n",
       "</table>\n",
       "<p>179 rows × 1 columns</p>\n",
       "</div>"
      ],
      "text/plain": [
       "                valor_empenhado\n",
       "nome_municipio                 \n",
       "ITATIRA             60864442.94\n",
       "JAGUARIBE           60803913.20\n",
       "CRUZ                58481544.96\n",
       "MARACANAU           53319252.70\n",
       "MARCO               47150880.62\n",
       "...                         ...\n",
       "FRECHEIRINHA           99820.00\n",
       "UMARI                  94065.00\n",
       "SOLONOPOLE             92593.27\n",
       "GRANJEIRO              88072.00\n",
       "POTENGI                77566.03\n",
       "\n",
       "[179 rows x 1 columns]"
      ]
     },
     "execution_count": 127,
     "metadata": {},
     "output_type": "execute_result"
    }
   ],
   "source": [
    "sumarios = {'valor_empenhado': 'sum'}\n",
    "empenhos_agrupado_por_municipio = dt_copy.groupby(by = 'nome_municipio').agg(sumarios)\n",
    "\n",
    "# Em ordem decrescente\n",
    "empenhos_agrupado_por_municipio.sort_values(by='valor_empenhado', ascending=False)"
   ]
  },
  {
   "cell_type": "code",
   "execution_count": 128,
   "metadata": {},
   "outputs": [
    {
     "ename": "KeyError",
     "evalue": "'nome_municipio'",
     "output_type": "error",
     "traceback": [
      "\u001b[1;31m---------------------------------------------------------------------------\u001b[0m",
      "\u001b[1;31mKeyError\u001b[0m                                  Traceback (most recent call last)",
      "\u001b[1;32m~\\anaconda3\\lib\\site-packages\\pandas\\core\\indexes\\base.py\u001b[0m in \u001b[0;36mget_loc\u001b[1;34m(self, key, method, tolerance)\u001b[0m\n\u001b[0;32m   2894\u001b[0m             \u001b[1;32mtry\u001b[0m\u001b[1;33m:\u001b[0m\u001b[1;33m\u001b[0m\u001b[1;33m\u001b[0m\u001b[0m\n\u001b[1;32m-> 2895\u001b[1;33m                 \u001b[1;32mreturn\u001b[0m \u001b[0mself\u001b[0m\u001b[1;33m.\u001b[0m\u001b[0m_engine\u001b[0m\u001b[1;33m.\u001b[0m\u001b[0mget_loc\u001b[0m\u001b[1;33m(\u001b[0m\u001b[0mcasted_key\u001b[0m\u001b[1;33m)\u001b[0m\u001b[1;33m\u001b[0m\u001b[1;33m\u001b[0m\u001b[0m\n\u001b[0m\u001b[0;32m   2896\u001b[0m             \u001b[1;32mexcept\u001b[0m \u001b[0mKeyError\u001b[0m \u001b[1;32mas\u001b[0m \u001b[0merr\u001b[0m\u001b[1;33m:\u001b[0m\u001b[1;33m\u001b[0m\u001b[1;33m\u001b[0m\u001b[0m\n",
      "\u001b[1;32mpandas\\_libs\\index.pyx\u001b[0m in \u001b[0;36mpandas._libs.index.IndexEngine.get_loc\u001b[1;34m()\u001b[0m\n",
      "\u001b[1;32mpandas\\_libs\\index.pyx\u001b[0m in \u001b[0;36mpandas._libs.index.IndexEngine.get_loc\u001b[1;34m()\u001b[0m\n",
      "\u001b[1;32mpandas\\_libs\\hashtable_class_helper.pxi\u001b[0m in \u001b[0;36mpandas._libs.hashtable.PyObjectHashTable.get_item\u001b[1;34m()\u001b[0m\n",
      "\u001b[1;32mpandas\\_libs\\hashtable_class_helper.pxi\u001b[0m in \u001b[0;36mpandas._libs.hashtable.PyObjectHashTable.get_item\u001b[1;34m()\u001b[0m\n",
      "\u001b[1;31mKeyError\u001b[0m: 'nome_municipio'",
      "\nThe above exception was the direct cause of the following exception:\n",
      "\u001b[1;31mKeyError\u001b[0m                                  Traceback (most recent call last)",
      "\u001b[1;32m<ipython-input-128-fd8d45761ccb>\u001b[0m in \u001b[0;36m<module>\u001b[1;34m\u001b[0m\n\u001b[1;32m----> 1\u001b[1;33m \u001b[0mxa\u001b[0m \u001b[1;33m=\u001b[0m \u001b[0mnp\u001b[0m\u001b[1;33m.\u001b[0m\u001b[0marray\u001b[0m\u001b[1;33m(\u001b[0m\u001b[0mempenhos_agrupado_por_municipio\u001b[0m\u001b[1;33m[\u001b[0m\u001b[1;34m'nome_municipio'\u001b[0m\u001b[1;33m]\u001b[0m\u001b[1;33m)\u001b[0m\u001b[1;33m\u001b[0m\u001b[1;33m\u001b[0m\u001b[0m\n\u001b[0m\u001b[0;32m      2\u001b[0m \u001b[0mya\u001b[0m \u001b[1;33m=\u001b[0m \u001b[0mnp\u001b[0m\u001b[1;33m.\u001b[0m\u001b[0marray\u001b[0m\u001b[1;33m(\u001b[0m\u001b[0mempenhos_agrupado_por_municipio\u001b[0m\u001b[1;33m[\u001b[0m\u001b[1;34m'valor_empenhado'\u001b[0m\u001b[1;33m]\u001b[0m\u001b[1;33m)\u001b[0m\u001b[1;33m\u001b[0m\u001b[1;33m\u001b[0m\u001b[0m\n\u001b[0;32m      3\u001b[0m \u001b[1;33m\u001b[0m\u001b[0m\n\u001b[0;32m      4\u001b[0m \u001b[0mfig\u001b[0m\u001b[1;33m,\u001b[0m \u001b[0max1\u001b[0m \u001b[1;33m=\u001b[0m \u001b[0mplt\u001b[0m\u001b[1;33m.\u001b[0m\u001b[0msubplots\u001b[0m\u001b[1;33m(\u001b[0m\u001b[0mfigsize\u001b[0m\u001b[1;33m=\u001b[0m\u001b[1;33m(\u001b[0m\u001b[1;36m12\u001b[0m\u001b[1;33m,\u001b[0m \u001b[1;36m40\u001b[0m\u001b[1;33m)\u001b[0m\u001b[1;33m)\u001b[0m  \u001b[1;31m# Create the figure\u001b[0m\u001b[1;33m\u001b[0m\u001b[1;33m\u001b[0m\u001b[0m\n\u001b[0;32m      5\u001b[0m \u001b[1;33m\u001b[0m\u001b[0m\n",
      "\u001b[1;32m~\\anaconda3\\lib\\site-packages\\pandas\\core\\frame.py\u001b[0m in \u001b[0;36m__getitem__\u001b[1;34m(self, key)\u001b[0m\n\u001b[0;32m   2900\u001b[0m             \u001b[1;32mif\u001b[0m \u001b[0mself\u001b[0m\u001b[1;33m.\u001b[0m\u001b[0mcolumns\u001b[0m\u001b[1;33m.\u001b[0m\u001b[0mnlevels\u001b[0m \u001b[1;33m>\u001b[0m \u001b[1;36m1\u001b[0m\u001b[1;33m:\u001b[0m\u001b[1;33m\u001b[0m\u001b[1;33m\u001b[0m\u001b[0m\n\u001b[0;32m   2901\u001b[0m                 \u001b[1;32mreturn\u001b[0m \u001b[0mself\u001b[0m\u001b[1;33m.\u001b[0m\u001b[0m_getitem_multilevel\u001b[0m\u001b[1;33m(\u001b[0m\u001b[0mkey\u001b[0m\u001b[1;33m)\u001b[0m\u001b[1;33m\u001b[0m\u001b[1;33m\u001b[0m\u001b[0m\n\u001b[1;32m-> 2902\u001b[1;33m             \u001b[0mindexer\u001b[0m \u001b[1;33m=\u001b[0m \u001b[0mself\u001b[0m\u001b[1;33m.\u001b[0m\u001b[0mcolumns\u001b[0m\u001b[1;33m.\u001b[0m\u001b[0mget_loc\u001b[0m\u001b[1;33m(\u001b[0m\u001b[0mkey\u001b[0m\u001b[1;33m)\u001b[0m\u001b[1;33m\u001b[0m\u001b[1;33m\u001b[0m\u001b[0m\n\u001b[0m\u001b[0;32m   2903\u001b[0m             \u001b[1;32mif\u001b[0m \u001b[0mis_integer\u001b[0m\u001b[1;33m(\u001b[0m\u001b[0mindexer\u001b[0m\u001b[1;33m)\u001b[0m\u001b[1;33m:\u001b[0m\u001b[1;33m\u001b[0m\u001b[1;33m\u001b[0m\u001b[0m\n\u001b[0;32m   2904\u001b[0m                 \u001b[0mindexer\u001b[0m \u001b[1;33m=\u001b[0m \u001b[1;33m[\u001b[0m\u001b[0mindexer\u001b[0m\u001b[1;33m]\u001b[0m\u001b[1;33m\u001b[0m\u001b[1;33m\u001b[0m\u001b[0m\n",
      "\u001b[1;32m~\\anaconda3\\lib\\site-packages\\pandas\\core\\indexes\\base.py\u001b[0m in \u001b[0;36mget_loc\u001b[1;34m(self, key, method, tolerance)\u001b[0m\n\u001b[0;32m   2895\u001b[0m                 \u001b[1;32mreturn\u001b[0m \u001b[0mself\u001b[0m\u001b[1;33m.\u001b[0m\u001b[0m_engine\u001b[0m\u001b[1;33m.\u001b[0m\u001b[0mget_loc\u001b[0m\u001b[1;33m(\u001b[0m\u001b[0mcasted_key\u001b[0m\u001b[1;33m)\u001b[0m\u001b[1;33m\u001b[0m\u001b[1;33m\u001b[0m\u001b[0m\n\u001b[0;32m   2896\u001b[0m             \u001b[1;32mexcept\u001b[0m \u001b[0mKeyError\u001b[0m \u001b[1;32mas\u001b[0m \u001b[0merr\u001b[0m\u001b[1;33m:\u001b[0m\u001b[1;33m\u001b[0m\u001b[1;33m\u001b[0m\u001b[0m\n\u001b[1;32m-> 2897\u001b[1;33m                 \u001b[1;32mraise\u001b[0m \u001b[0mKeyError\u001b[0m\u001b[1;33m(\u001b[0m\u001b[0mkey\u001b[0m\u001b[1;33m)\u001b[0m \u001b[1;32mfrom\u001b[0m \u001b[0merr\u001b[0m\u001b[1;33m\u001b[0m\u001b[1;33m\u001b[0m\u001b[0m\n\u001b[0m\u001b[0;32m   2898\u001b[0m \u001b[1;33m\u001b[0m\u001b[0m\n\u001b[0;32m   2899\u001b[0m         \u001b[1;32mif\u001b[0m \u001b[0mtolerance\u001b[0m \u001b[1;32mis\u001b[0m \u001b[1;32mnot\u001b[0m \u001b[1;32mNone\u001b[0m\u001b[1;33m:\u001b[0m\u001b[1;33m\u001b[0m\u001b[1;33m\u001b[0m\u001b[0m\n",
      "\u001b[1;31mKeyError\u001b[0m: 'nome_municipio'"
     ]
    }
   ],
   "source": [
    "xa = np.array(empenhos_agrupado_por_municipio['nome_municipio'])\n",
    "ya = np.array(empenhos_agrupado_por_municipio['valor_empenhado'])\n",
    "\n",
    "fig, ax1 = plt.subplots(figsize=(12, 40))  # Create the figure\n",
    "\n",
    "pos = np.arange(len(xa))\n",
    "ax1.barh(pos, ya,height=2, tick_label=xa, left=xa )\n",
    "\n",
    "# plt.barh(xa, ya)\n",
    "plt.show()"
   ]
  },
  {
   "cell_type": "markdown",
   "metadata": {},
   "source": [
    "### Verificar se existe empenhos futuros"
   ]
  },
  {
   "cell_type": "code",
   "execution_count": 73,
   "metadata": {},
   "outputs": [
    {
     "data": {
      "text/plain": [
       "Timestamp('2021-07-29 00:00:00')"
      ]
     },
     "execution_count": 73,
     "metadata": {},
     "output_type": "execute_result"
    }
   ],
   "source": [
    "import datetime as dt\n",
    "hoje = pd.to_datetime(dt.date.today())\n",
    "hoje"
   ]
  },
  {
   "cell_type": "code",
   "execution_count": 74,
   "metadata": {},
   "outputs": [
    {
     "data": {
      "text/html": [
       "<div>\n",
       "<style scoped>\n",
       "    .dataframe tbody tr th:only-of-type {\n",
       "        vertical-align: middle;\n",
       "    }\n",
       "\n",
       "    .dataframe tbody tr th {\n",
       "        vertical-align: top;\n",
       "    }\n",
       "\n",
       "    .dataframe thead th {\n",
       "        text-align: right;\n",
       "    }\n",
       "</style>\n",
       "<table border=\"1\" class=\"dataframe\">\n",
       "  <thead>\n",
       "    <tr style=\"text-align: right;\">\n",
       "      <th></th>\n",
       "      <th>codigo_municipio</th>\n",
       "      <th>nome_municipio</th>\n",
       "      <th>codigo_orgao</th>\n",
       "      <th>codigo_unidade</th>\n",
       "      <th>data_emissao_empenho</th>\n",
       "      <th>numero_empenho</th>\n",
       "      <th>codigo_funcao</th>\n",
       "      <th>codigo_subfuncao</th>\n",
       "      <th>codigo_programa</th>\n",
       "      <th>codigo_elemento_despesa</th>\n",
       "      <th>...</th>\n",
       "      <th>tipo_processo_licitatorio</th>\n",
       "      <th>numero_documento_negociante</th>\n",
       "      <th>estado_empenho</th>\n",
       "      <th>codigo_tipo_negociante</th>\n",
       "      <th>nome_negociante</th>\n",
       "      <th>situacao_favorecido</th>\n",
       "      <th>data_situacao</th>\n",
       "      <th>atividade_principal_texto</th>\n",
       "      <th>atividade_principal_codigo</th>\n",
       "      <th>ano</th>\n",
       "    </tr>\n",
       "  </thead>\n",
       "  <tbody>\n",
       "  </tbody>\n",
       "</table>\n",
       "<p>0 rows × 24 columns</p>\n",
       "</div>"
      ],
      "text/plain": [
       "Empty DataFrame\n",
       "Columns: [codigo_municipio, nome_municipio, codigo_orgao, codigo_unidade, data_emissao_empenho, numero_empenho, codigo_funcao, codigo_subfuncao, codigo_programa, codigo_elemento_despesa, modalidade_empenho, descricao_empenho, valor_anterior_saldo_dotacao, valor_empenhado, tipo_processo_licitatorio, numero_documento_negociante, estado_empenho, codigo_tipo_negociante, nome_negociante, situacao_favorecido, data_situacao, atividade_principal_texto, atividade_principal_codigo, ano]\n",
       "Index: []\n",
       "\n",
       "[0 rows x 24 columns]"
      ]
     },
     "execution_count": 74,
     "metadata": {},
     "output_type": "execute_result"
    }
   ],
   "source": [
    "dataset[dataset['data_emissao_empenho']>hoje]"
   ]
  },
  {
   "cell_type": "markdown",
   "metadata": {},
   "source": [
    "# AGRUPAR POR ANO"
   ]
  },
  {
   "cell_type": "code",
   "execution_count": 129,
   "metadata": {},
   "outputs": [],
   "source": [
    "# #crio uma coluna mes_ano\n",
    "# dataset['ano'] = dataset['data_emissao_empenho'].map(lambda x: str(x).split('-')[0])\n",
    "# dataset.head()"
   ]
  },
  {
   "cell_type": "markdown",
   "metadata": {},
   "source": [
    "## Quantidades de valores totais dos empenhos por ano"
   ]
  },
  {
   "cell_type": "markdown",
   "metadata": {},
   "source": [
    "> VALENDO"
   ]
  },
  {
   "cell_type": "code",
   "execution_count": 130,
   "metadata": {},
   "outputs": [
    {
     "data": {
      "image/png": "[encoded data removed]",
      "text/plain": [
       "<Figure size 936x360 with 2 Axes>"
      ]
     },
     "metadata": {
      "needs_background": "light"
     },
     "output_type": "display_data"
    }
   ],
   "source": [
    "freq_year = dataset.groupby([\"ano\"]).size().reset_index(name=\"freq_year\")\n",
    "\n",
    "# PRIMEIRO GRÁFICO\n",
    "xm = freq_year['ano']\n",
    "ym = freq_year['freq_year']\n",
    "\n",
    "plt.figure(figsize=(13, 5)) \n",
    "plt.subplot(1,3,1)\n",
    "plt.bar(xm, ym)\n",
    "plt.grid(axis = 'y')\n",
    "plt.xlabel(\"Ano\")\n",
    "plt.ylabel(\"Quantidade\")\n",
    "\n",
    "\n",
    "# SEGUNDO GRÁFICO\n",
    "sumarios = {'valor_empenhado': 'sum'}\n",
    "total_por_ano = dataset.groupby(by = 'ano').agg(sumarios)\n",
    "\n",
    "\n",
    "plt.subplot(1,3,3)\n",
    "plt.bar(xm,total_por_ano['valor_empenhado'])\n",
    "plt.grid(axis = 'y')\n",
    "plt.xlabel(\"Ano\")\n",
    "plt.ylabel(\"Valores\")\n",
    "\n",
    "\n",
    "plt.suptitle(\"Distribuição por ano\")\n",
    "\n",
    "plt.show()"
   ]
  },
  {
   "cell_type": "markdown",
   "metadata": {},
   "source": [
    "# Qual menor empenho?"
   ]
  },
  {
   "cell_type": "code",
   "execution_count": 163,
   "metadata": {},
   "outputs": [
    {
     "data": {
      "text/plain": [
       "0.54"
      ]
     },
     "execution_count": 163,
     "metadata": {},
     "output_type": "execute_result"
    }
   ],
   "source": [
    "dataset['valor_empenhado'].min()"
   ]
  },
  {
   "cell_type": "markdown",
   "metadata": {},
   "source": [
    "# Qual maior empenho?"
   ]
  },
  {
   "cell_type": "code",
   "execution_count": 164,
   "metadata": {},
   "outputs": [
    {
     "data": {
      "text/plain": [
       "9000000.0"
      ]
     },
     "execution_count": 164,
     "metadata": {},
     "output_type": "execute_result"
    }
   ],
   "source": [
    "dataset['valor_empenhado'].max()"
   ]
  },
  {
   "cell_type": "markdown",
   "metadata": {},
   "source": [
    "# Qual cidade emitiu o maior empenho"
   ]
  },
  {
   "cell_type": "code",
   "execution_count": 166,
   "metadata": {},
   "outputs": [
    {
     "name": "stdout",
     "output_type": "stream",
     "text": [
      "ITATIRA emitiu o MAIOR empenho com o valor de: R$ 9000000.0\n",
      "JAGUARIBE emitiu o MAIOR empenho com o valor de: R$ 9000000.0\n"
     ]
    }
   ],
   "source": [
    "maiorEmpenho = dataset[dataset['valor_empenhado'] == dataset['valor_empenhado'].max()]\n",
    "for i in range(maiorEmpenho.shape[0]):\n",
    "    print('{} emitiu o MAIOR empenho com o valor de: R$ {}'.format(maiorEmpenho.iloc[i]['nome_municipio'],maiorEmpenho.iloc[i]['valor_empenhado']))"
   ]
  },
  {
   "cell_type": "markdown",
   "metadata": {},
   "source": [
    "# Qual município investiu mais?"
   ]
  },
  {
   "cell_type": "code",
   "execution_count": 214,
   "metadata": {},
   "outputs": [
    {
     "name": "stdout",
     "output_type": "stream",
     "text": [
      "ITATIRA foi o município que mais investiu. Total: R$ 60864442.94\n"
     ]
    }
   ],
   "source": [
    "# dapm = dataset agrupado por municipio\n",
    "dapm = dataset.groupby(by='nome_municipio').agg({'valor_empenhado':'sum'})\n",
    "mun_mais_investiu = dapm[dapm['valor_empenhado']==dapm['valor_empenhado'].max()].reset_index()\n",
    "# mun = dapm[dapm['valor_empenhado']==dapm['valor_empenhado'].max()]\n",
    "print('{} foi o município que mais investiu. Total: R$ {}'.format(mun_mais_investiu.iloc[0]['nome_municipio'],mun_mais_investiu.iloc[0]['valor_empenhado']))"
   ]
  },
  {
   "cell_type": "markdown",
   "metadata": {},
   "source": [
    "# Quais os 5 municipios que mais emitiram empenhos (quantidade)?\n",
    "\n"
   ]
  },
  {
   "cell_type": "code",
   "execution_count": 215,
   "metadata": {},
   "outputs": [
    {
     "data": {
      "text/plain": [
       "36    623\n",
       "87    619\n",
       "38    582\n",
       "55    485\n",
       "99    461\n",
       "Name: codigo_municipio, dtype: int64"
      ]
     },
     "execution_count": 215,
     "metadata": {},
     "output_type": "execute_result"
    }
   ],
   "source": [
    "dataset['codigo_municipio'].value_counts().head(5)"
   ]
  },
  {
   "cell_type": "markdown",
   "metadata": {},
   "source": [
    "## Quais os 5 tipos de empenhos mais comuns?"
   ]
  },
  {
   "cell_type": "markdown",
   "metadata": {},
   "source": [
    "> Aparentemente a maior parte dos gastos são com a própria organização ao invés de benefícios à comunidade"
   ]
  },
  {
   "cell_type": "code",
   "execution_count": 222,
   "metadata": {},
   "outputs": [
    {
     "data": {
      "text/plain": [
       "Seguridade social obrigatória                                                                            1126\n",
       "Distribuição de energia elétrica                                                                          876\n",
       "Captação, tratamento e distribuição de água                                                               782\n",
       "Administração pública em geral                                                                            674\n",
       "********                                                                                                  627\n",
       "                                                                                                         ... \n",
       "Serviços de entrega rápida                                                                                  1\n",
       "Confecção de roupas íntimas                                                                                 1\n",
       "Comércio atacadista de outras máquinas e equipamentos não especificados anteriormente; partes e peças       1\n",
       "Aluguel de móveis, utensílios e aparelhos de uso doméstico e pessoal; instrumentos musicais                 1\n",
       "Ensino de esportes                                                                                          1\n",
       "Name: atividade_principal_texto, Length: 363, dtype: int64"
      ]
     },
     "execution_count": 222,
     "metadata": {},
     "output_type": "execute_result"
    }
   ],
   "source": [
    "dataset['atividade_principal_texto'].value_counts()"
   ]
  },
  {
   "cell_type": "markdown",
   "metadata": {},
   "source": [
    "# Quais favorecidos receberam mais empenhos"
   ]
  },
  {
   "cell_type": "code",
   "execution_count": 223,
   "metadata": {},
   "outputs": [
    {
     "data": {
      "text/plain": [
       "66666666666       1842\n",
       "7047251000170      876\n",
       "7040108000157      638\n",
       "77777777777        316\n",
       "29979036004219     243\n",
       "29979036000140     196\n",
       "33000118001574     191\n",
       "7779242000174      180\n",
       "191                131\n",
       "33000118000179      99\n",
       "7135601000150       94\n",
       "29979036004480      81\n",
       "29979036004308      76\n",
       "360305000104        57\n",
       "7605850000162       52\n",
       "394460005887        47\n",
       "1090080000186       46\n",
       "11439609000188      45\n",
       "29979036004995      42\n",
       "29979036005452      42\n",
       "Name: numero_documento_negociante, dtype: int64"
      ]
     },
     "execution_count": 223,
     "metadata": {},
     "output_type": "execute_result"
    }
   ],
   "source": [
    "dataset['numero_documento_negociante'].value_counts().head(20)"
   ]
  },
  {
   "cell_type": "code",
   "execution_count": 224,
   "metadata": {},
   "outputs": [
    {
     "data": {
      "text/html": [
       "<div>\n",
       "<style scoped>\n",
       "    .dataframe tbody tr th:only-of-type {\n",
       "        vertical-align: middle;\n",
       "    }\n",
       "\n",
       "    .dataframe tbody tr th {\n",
       "        vertical-align: top;\n",
       "    }\n",
       "\n",
       "    .dataframe thead th {\n",
       "        text-align: right;\n",
       "    }\n",
       "</style>\n",
       "<table border=\"1\" class=\"dataframe\">\n",
       "  <thead>\n",
       "    <tr style=\"text-align: right;\">\n",
       "      <th></th>\n",
       "      <th>codigo_elemento_despesa</th>\n",
       "      <th>valor_empenhado</th>\n",
       "    </tr>\n",
       "  </thead>\n",
       "  <tbody>\n",
       "    <tr>\n",
       "      <th>codigo_elemento_despesa</th>\n",
       "      <td>1.000000</td>\n",
       "      <td>-0.086263</td>\n",
       "    </tr>\n",
       "    <tr>\n",
       "      <th>valor_empenhado</th>\n",
       "      <td>-0.086263</td>\n",
       "      <td>1.000000</td>\n",
       "    </tr>\n",
       "  </tbody>\n",
       "</table>\n",
       "</div>"
      ],
      "text/plain": [
       "                         codigo_elemento_despesa  valor_empenhado\n",
       "codigo_elemento_despesa                 1.000000        -0.086263\n",
       "valor_empenhado                        -0.086263         1.000000"
      ]
     },
     "execution_count": 224,
     "metadata": {},
     "output_type": "execute_result"
    }
   ],
   "source": [
    "# Existe correlação entre o codigo_elemento_despesa e o valor empenhado\n",
    "# quanto maior o valor do empenho, mais o municipio duplica?\n",
    "\n",
    "dataset[['codigo_elemento_despesa', 'valor_empenhado']].corr()"
   ]
  },
  {
   "cell_type": "code",
   "execution_count": 225,
   "metadata": {},
   "outputs": [
    {
     "data": {
      "image/png": "[encoded data removed]",
      "text/plain": [
       "<Figure size 432x288 with 1 Axes>"
      ]
     },
     "metadata": {
      "needs_background": "light"
     },
     "output_type": "display_data"
    }
   ],
   "source": [
    "plt.hist(dataset[\"codigo_municipio\"]);"
   ]
  },
  {
   "cell_type": "code",
   "execution_count": 226,
   "metadata": {},
   "outputs": [
    {
     "data": {
      "text/plain": [
       "<AxesSubplot:>"
      ]
     },
     "execution_count": 226,
     "metadata": {},
     "output_type": "execute_result"
    },
    {
     "data": {
      "image/png": "[encoded data removed]",
      "text/plain": [
       "<Figure size 432x288 with 1 Axes>"
      ]
     },
     "metadata": {
      "needs_background": "light"
     },
     "output_type": "display_data"
    }
   ],
   "source": [
    "# dataset[\"codigo_municipio\", \"valor_empenhado\"].plot()\n",
    "dataset[\"valor_empenhado\"].plot.box()"
   ]
  },
  {
   "cell_type": "code",
   "execution_count": null,
   "metadata": {},
   "outputs": [],
   "source": []
  }
 ],
 "metadata": {
  "kernelspec": {
   "display_name": "Python 3",
   "language": "python",
   "name": "python3"
  },
  "language_info": {
   "codemirror_mode": {
    "name": "ipython",
    "version": 3
   },
   "file_extension": ".py",
   "mimetype": "text/x-python",
   "name": "python",
   "nbconvert_exporter": "python",
   "pygments_lexer": "ipython3",
   "version": "3.8.5"
  }
 },
 "nbformat": 4,
 "nbformat_minor": 4
}
